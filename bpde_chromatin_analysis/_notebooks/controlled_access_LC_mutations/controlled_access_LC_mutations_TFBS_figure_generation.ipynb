{
 "cells": [
  {
   "cell_type": "code",
   "execution_count": null,
   "metadata": {},
   "outputs": [],
   "source": [
    "import os\n",
    "from pandas import read_table\n",
    "from benbiohelpers.FileSystemHandling.DirectoryHandling import getFilesInDirectory\n",
    "from bpde_chromatin_analysis.helper_scripts.BPDE_DataDir import getDataDir\n",
    "from mutperiodpy.helper_scripts.UsefulFileSystemFunctions import DataTypeStr, Metadata, getExternalDataDirectory as getMutperiodExternalDataDirectory\n",
    "from mutperiodpy.GeneratePlotnineFigures import parseAndPlotPeriodicity\n",
    "\n",
    "mutperiodHg19Directory = os.path.join(getMutperiodExternalDataDirectory(),\"hg19\")\n",
    "\n",
    "controlledAccessDataDirectory = os.path.join(getDataDir(), \"controlled_access_LC\")"
   ]
  },
  {
   "cell_type": "code",
   "execution_count": null,
   "metadata": {},
   "outputs": [],
   "source": [
    "SINGLE_NUC = 1\n",
    "NUC_GROUP = 2\n",
    "\n",
    "TFBS_Names = [\"hg19_CTCF_known\", \"hg19_ETS_and_GABPA_known\", \"hg19_SP1_known\"]\n",
    "\n",
    "controlledAccessNormalizedCounts = {SINGLE_NUC:dict(), NUC_GROUP:dict()}\n",
    "for nucleosomeCountsFilePath in getFilesInDirectory(controlledAccessDataDirectory, DataTypeStr.normNucCounts+\".tsv\"):\n",
    "\n",
    "    if \"nuc-group\" in nucleosomeCountsFilePath: radius = NUC_GROUP\n",
    "    else: radius = SINGLE_NUC\n",
    "\n",
    "    countsMetadata = Metadata(nucleosomeCountsFilePath)\n",
    "\n",
    "    if countsMetadata.nucPosName in TFBS_Names:\n",
    "        controlledAccessNormalizedCounts[radius][countsMetadata.nucPosName] = read_table(nucleosomeCountsFilePath)"
   ]
  },
  {
   "cell_type": "code",
   "execution_count": null,
   "metadata": {},
   "outputs": [],
   "source": [
    "for radius in controlledAccessNormalizedCounts:\n",
    "    for TFBS_Name in controlledAccessNormalizedCounts[radius]:\n",
    "        plot = parseAndPlotPeriodicity(controlledAccessNormalizedCounts[radius][TFBS_Name], dataCol = \"Normalized_Both_Strands\",\n",
    "                                       smoothTranslational = True, nucRepLen = 2000,\n",
    "                                       title = f\"LC Mutations {TFBS_Name} Trinuc Normalized\", yAxisLabel = \"Normalized Counts\")\n",
    "        print(plot)"
   ]
  }
 ],
 "metadata": {
  "kernelspec": {
   "display_name": "Python 3",
   "language": "python",
   "name": "python3"
  },
  "language_info": {
   "codemirror_mode": {
    "name": "ipython",
    "version": 3
   },
   "file_extension": ".py",
   "mimetype": "text/x-python",
   "name": "python",
   "nbconvert_exporter": "python",
   "pygments_lexer": "ipython3",
   "version": "3.10.12"
  }
 },
 "nbformat": 4,
 "nbformat_minor": 2
}
