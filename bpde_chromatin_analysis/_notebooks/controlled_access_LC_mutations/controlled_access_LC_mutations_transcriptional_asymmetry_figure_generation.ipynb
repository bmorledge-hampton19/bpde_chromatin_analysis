{
 "cells": [
  {
   "cell_type": "markdown",
   "metadata": {},
   "source": [
    "### Parse the gene bins file to a pandas data frame"
   ]
  },
  {
   "cell_type": "code",
   "execution_count": null,
   "metadata": {},
   "outputs": [],
   "source": [
    "import os\n",
    "from bpde_chromatin_analysis.helper_scripts.BPDE_DataDir import getDataDir\n",
    "from chromatinfeaturesanalysis.BinInGenes import parseGeneBinData, plotGeneBins\n",
    "\n",
    "controlledAccessDataDirectory = os.path.join(getDataDir(), \"controlled_access_LC\")\n",
    "controlledAccessGeneBinDataFilePath = os.path.join(controlledAccessDataDirectory, \"controlled_access_LC_trinuc_context_mutations_gene_bins_TS_vs_NTS.tsv\")\n",
    "controlledAccessGeneBinData = parseGeneBinData(controlledAccessGeneBinDataFilePath)\n",
    "controlledAccessFineGrainGeneBinDataFilePath = os.path.join(controlledAccessDataDirectory, \"controlled_access_LC_trinuc_context_mutations_gene_bins_TS_vs_NTS_fine-grain.tsv\")\n",
    "controlledAccessFineGrainGeneBinData = parseGeneBinData(controlledAccessFineGrainGeneBinDataFilePath)"
   ]
  },
  {
   "cell_type": "markdown",
   "metadata": {},
   "source": [
    "### Graph the TS vs. NTS"
   ]
  },
  {
   "cell_type": "code",
   "execution_count": null,
   "metadata": {},
   "outputs": [],
   "source": [
    "print(\n",
    "    plotGeneBins(controlledAccessGeneBinData, \"LC Mutations Transcriptional Asymmetry\", yAxisLabel = \"Mutations (pyrimidine)\",\n",
    "                 yData1 = \"Coding_Strand_Counts\", yData2 = \"Noncoding_Strand_Counts\", plotYData3Only = False,\n",
    "                 flankingBinSize = 10886, flankingBinNum = 3)\n",
    ")\n",
    "print(\n",
    "    plotGeneBins(controlledAccessFineGrainGeneBinData, \"LC Mutations Transcriptional Asymmetry\", yAxisLabel = \"Mutations (pyrimidine)\",\n",
    "                 yData1 = \"Coding_Strand_Counts\", yData2 = \"Noncoding_Strand_Counts\", plotYData3Only = False,\n",
    "                 flankingBinSize = 108, flankingBinNum = 300, geneFractionNum = 600)\n",
    ")\n",
    "print(\n",
    "    plotGeneBins(controlledAccessFineGrainGeneBinData, \"LC Mutations Transcriptional Asymmetry\", yAxisLabel = \"Mutations (pyrimidine)\",\n",
    "                 yData1 = \"Coding_Strand_Counts\", yData2 = \"Noncoding_Strand_Counts\", plotYData3Only = False,\n",
    "                 flankingBinSize = 108, flankingBinNum = 300, geneFractionNum = 600, xlim = (-10,10))\n",
    ")"
   ]
  },
  {
   "cell_type": "markdown",
   "metadata": {},
   "source": [
    "### Graph the log ratio of TS vs. NTS"
   ]
  },
  {
   "cell_type": "code",
   "execution_count": null,
   "metadata": {},
   "outputs": [],
   "source": [
    "print(\n",
    "    plotGeneBins(controlledAccessGeneBinData, \"LC Mutations Transcriptional Asymmetry\", yAxisLabel = \"Mutation Log Ratio (Pyr; TS/NTS)\", ylim = (-1,1),\n",
    "                 flankingBinSize = 10886, flankingBinNum = 3)\n",
    ")\n",
    "print(\n",
    "    plotGeneBins(controlledAccessFineGrainGeneBinData, \"LC Mutations Transcriptional Asymmetry\", yAxisLabel = \"Mutation Log Ratio (Pyr; TS/NTS)\", ylim = (-1,1),\n",
    "                 flankingBinSize = 108, flankingBinNum = 300, geneFractionNum = 600)\n",
    ")\n",
    "print(\n",
    "    plotGeneBins(controlledAccessFineGrainGeneBinData, \"LC Mutations Transcriptional Asymmetry\", yAxisLabel = \"Mutation Log Ratio (Pyr; TS/NTS)\", ylim = (-1,1),\n",
    "                 flankingBinSize = 108, flankingBinNum = 300, geneFractionNum = 600, xlim = (-10,10))\n",
    ")"
   ]
  }
 ],
 "metadata": {
  "kernelspec": {
   "display_name": "Python 3",
   "language": "python",
   "name": "python3"
  },
  "language_info": {
   "codemirror_mode": {
    "name": "ipython",
    "version": 3
   },
   "file_extension": ".py",
   "mimetype": "text/x-python",
   "name": "python",
   "nbconvert_exporter": "python",
   "pygments_lexer": "ipython3",
   "version": "3.10.12"
  }
 },
 "nbformat": 4,
 "nbformat_minor": 2
}
