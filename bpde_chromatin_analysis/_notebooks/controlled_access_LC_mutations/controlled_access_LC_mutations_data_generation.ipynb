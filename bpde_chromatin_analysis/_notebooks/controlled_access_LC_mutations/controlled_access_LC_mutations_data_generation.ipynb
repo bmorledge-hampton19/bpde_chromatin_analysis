{
 "cells": [
  {
   "cell_type": "markdown",
   "metadata": {},
   "source": [
    "### Use bpde_chromatin_analysis/controlled_access_LC_mutation_data_analysis/full_analysis.py"
   ]
  }
 ],
 "metadata": {
  "language_info": {
   "name": "python"
  }
 },
 "nbformat": 4,
 "nbformat_minor": 2
}
