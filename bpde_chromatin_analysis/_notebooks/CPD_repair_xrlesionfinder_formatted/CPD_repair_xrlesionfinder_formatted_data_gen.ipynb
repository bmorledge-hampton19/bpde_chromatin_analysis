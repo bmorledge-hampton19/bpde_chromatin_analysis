{
 "cells": [
  {
   "cell_type": "markdown",
   "metadata": {},
   "source": [
    "### Set up pipeline with basic imports, data directories, and file basenames."
   ]
  },
  {
   "cell_type": "code",
   "execution_count": null,
   "metadata": {},
   "outputs": [],
   "source": [
    "import os\n",
    "from benbiohelpers.DataPipelineManagement.GenomeManager import getGenomeFastaFilePath\n",
    "from bpde_chromatin_analysis.helper_scripts.BPDE_DataDir import getDataDir\n",
    "from mutperiodpy.helper_scripts.UsefulFileSystemFunctions import getExternalDataDirectory as getMutperiodExternalDataDirectory\n",
    "\n",
    "hg19FastaFilePath = getGenomeFastaFilePath(\"hg19\")\n",
    "mutperiodHg19Directory = getMutperiodExternalDataDirectory()\n",
    "\n",
    "CPD_DataDirectory = os.path.join(getDataDir(), \"CPD_repair_xrlesionfinder_formatted\")\n",
    "CPD_BaseDataFilePath = os.path.join(CPD_DataDirectory, \"NHF1_CPD_1h_all_reps_C_to_T_mismatches_by_read_relation_formatted_TGG_filtered.bed\")"
   ]
  },
  {
   "cell_type": "markdown",
   "metadata": {},
   "source": [
    "### Parse the damage position data for mutperiod input"
   ]
  },
  {
   "cell_type": "code",
   "execution_count": null,
   "metadata": {},
   "outputs": [],
   "source": [
    "from mutperiodpy.input_parsing.ParseStandardBed import parseStandardBed\n",
    "\n",
    "CPD_MutperiodInputFilePaths = parseStandardBed([CPD_BaseDataFilePath], hg19FastaFilePath)"
   ]
  },
  {
   "cell_type": "markdown",
   "metadata": {},
   "source": [
    "### Run the mutperiod pipeline to determine translational and rotational periodicity of the data."
   ]
  },
  {
   "cell_type": "code",
   "execution_count": null,
   "metadata": {},
   "outputs": [],
   "source": [
    "from mutperiodpy.RunAnalysisSuite import runAnalysisSuite\n",
    "nucleosomeMapFilePaths = list()\n",
    "nucleosomeMapFilePaths.append(os.path.join(mutperiodHg19Directory, \"hg19_hybrid_nuc_map\", \"hg19_hybrid_nuc_map.bed\"))\n",
    "nucleosomeMapFilePaths.append(os.path.join(mutperiodHg19Directory, \"hg19_LCL_MNase_nuc_map\", \"hg19_LCL_MNase_nuc_map.bed\"))\n",
    "nucleosomeMapFilePaths.append(os.path.join(mutperiodHg19Directory, \"hg19_LCL_MNase_nuc_map_euchromatin\",\n",
    "                                           \"hg19_LCL_MNase_nuc_map_euchromatin.bed\"))\n",
    "nucleosomeMapFilePaths.append(os.path.join(mutperiodHg19Directory, \"hg19_LCL_MNase_nuc_map_heterochromatin\",\n",
    "                                           \"hg19_LCL_MNase_nuc_map_heterochromatin.bed\"))\n",
    "nucleosomeMapFilePaths.append(os.path.join(mutperiodHg19Directory, \"hg19_LCL_MNase_nuc_map_stringent_euchromatin\",\n",
    "                                           \"hg19_LCL_MNase_nuc_map_stringent_euchromatin.bed\"))\n",
    "nucleosomeMapFilePaths.append(os.path.join(mutperiodHg19Directory, \"hg19_NHF1_MNase_nuc_map\", \"hg19_NHF1_MNase_nuc_map.bed\"))\n",
    "nucleosomeMapFilePaths.append(os.path.join(mutperiodHg19Directory, \"hg19_CTCF_known\", \"hg19_CTCF_known.bed\"))\n",
    "\n",
    "nucleosomeMapNames = [os.path.basename(nucleosomeMapFilePath).rsplit('.', 1)[0] for nucleosomeMapFilePath in nucleosomeMapFilePaths]\n",
    "\n",
    "runAnalysisSuite(CPD_MutperiodInputFilePaths, nucleosomeMapNames,\n",
    "                 normalizationMethod = \"No Normalization\", customBackgroundDir = None,\n",
    "                 useSingleNucRadius = True, includeLinker = False, useNucGroupRadius = True)\n",
    "runAnalysisSuite(CPD_MutperiodInputFilePaths, nucleosomeMapNames,\n",
    "                 normalizationMethod = \"Singlenuc/Dinuc\", customBackgroundDir = None,\n",
    "                 useSingleNucRadius = True, includeLinker = False, useNucGroupRadius = True)\n",
    "runAnalysisSuite(CPD_MutperiodInputFilePaths, nucleosomeMapNames,\n",
    "                 normalizationMethod = \"Trinuc/Quadrunuc\", customBackgroundDir = None,\n",
    "                 useSingleNucRadius = True, includeLinker = False, useNucGroupRadius = True)"
   ]
  },
  {
   "cell_type": "code",
   "execution_count": null,
   "metadata": {},
   "outputs": [],
   "source": [
    "from mutperiodpy.helper_scripts.UsefulFileSystemFunctions import DataTypeStr\n",
    "from mutperiodpy.RunNucleosomeMutationAnalysis import runNucleosomeMutationAnalysis\n",
    "from benbiohelpers.FileSystemHandling.DirectoryHandling import getFilesInDirectory\n",
    "\n",
    "runNucleosomeMutationAnalysis(getFilesInDirectory(CPD_DataDirectory, DataTypeStr.rawNucCounts + \".tsv\"),\n",
    "                              outputFilePath = os.path.join(CPD_DataDirectory, \"CPD_repair_control_raw_periodicity_data.tsv\"),\n",
    "                              overridePeakPeriodicityWithExpected = False, alignStrands = True)\n",
    "runNucleosomeMutationAnalysis(getFilesInDirectory(CPD_DataDirectory, DataTypeStr.normNucCounts + \".tsv\"),\n",
    "                              outputFilePath = os.path.join(CPD_DataDirectory, \"CPD_repair_control_normalized_periodicity_data.tsv\"),\n",
    "                              overridePeakPeriodicityWithExpected = False, alignStrands = True)"
   ]
  }
 ],
 "metadata": {
  "kernelspec": {
   "display_name": "Python 3",
   "language": "python",
   "name": "python3"
  },
  "language_info": {
   "codemirror_mode": {
    "name": "ipython",
    "version": 3
   },
   "file_extension": ".py",
   "mimetype": "text/x-python",
   "name": "python",
   "nbconvert_exporter": "python",
   "pygments_lexer": "ipython3",
   "version": "3.10.12"
  }
 },
 "nbformat": 4,
 "nbformat_minor": 2
}
