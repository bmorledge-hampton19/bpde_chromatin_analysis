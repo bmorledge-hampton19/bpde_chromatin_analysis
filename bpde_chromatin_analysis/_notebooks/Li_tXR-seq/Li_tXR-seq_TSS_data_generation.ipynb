{
 "cells": [
  {
   "cell_type": "markdown",
   "metadata": {},
   "source": [
    "### Set up pipeline with basic imports, data directories, and file basenames."
   ]
  },
  {
   "cell_type": "code",
   "execution_count": null,
   "metadata": {},
   "outputs": [],
   "source": [
    "import os\n",
    "from benbiohelpers.DataPipelineManagement.GenomeManager import getGenomeFastaFilePath\n",
    "from bpde_chromatin_analysis.helper_scripts.BPDE_DataDir import getDataDir\n",
    "from mutperiodpy.helper_scripts.UsefulFileSystemFunctions import getExternalDataDirectory as getMutperiodExternalDataDirectory\n",
    "\n",
    "hg19FastaFilePath = getGenomeFastaFilePath(\"hg19\")\n",
    "mutperiodHg19Directory = getMutperiodExternalDataDirectory()\n",
    "\n",
    "liDataDirectory = os.path.join(getDataDir(), \"Li_tXR-seq\")\n",
    "liBaseDataFilePath = os.path.join(liDataDirectory, \"Li_tXR-seq.bed\")\n",
    "\n",
    "jiang2uM_CellularDataDir = os.path.join(getDataDir(), \"Jiang_BPDE_damage_maps\", \"BEAS-2B_2uM_BPDE_cell_24h\")"
   ]
  },
  {
   "cell_type": "markdown",
   "metadata": {},
   "source": [
    "### Parse the tXR-seq data for mutperiod input"
   ]
  },
  {
   "cell_type": "code",
   "execution_count": null,
   "metadata": {},
   "outputs": [],
   "source": [
    "from mutperiodpy.input_parsing.ParseXRSeq import parseXRSeq, PresetCallParams\n",
    "from mutperiodpy.helper_scripts.UsefulFileSystemFunctions import DataTypeStr\n",
    "from benbiohelpers.FileSystemHandling.DirectoryHandling import getFilesInDirectory\n",
    "\n",
    "if getFilesInDirectory(liDataDirectory, DataTypeStr.mutations + \".bed\", searchRecursively = False) is None:\n",
    "    print(\"Parsed data not found. Generating...\")\n",
    "    liMutperiodInputFilePaths = parseXRSeq([liBaseDataFilePath], PresetCallParams.BPDE, hg19FastaFilePath)\n",
    "else:\n",
    "    liMutperiodInputFilePaths = [getFilesInDirectory(liDataDirectory, DataTypeStr.mutations + \".bed\", searchRecursively = False)]\n",
    "    print(f\"Found parsed data at {liMutperiodInputFilePaths[0]}. Continuing.\")"
   ]
  },
  {
   "cell_type": "markdown",
   "metadata": {},
   "source": [
    "### Run the mutperiod pipeline to count repair events relative to transcription factor binding sites.\n",
    "NOTE: This analysis requires that the damage data has already been parsed for mutperiod using the Jiang_damage_maps_nucleosome_periodicity_data_generation notebook."
   ]
  },
  {
   "cell_type": "code",
   "execution_count": null,
   "metadata": {},
   "outputs": [],
   "source": [
    "from mutperiodpy.RunAnalysisSuite import runAnalysisSuite\n",
    "TSS_FilePaths = list()\n",
    "TSS_FilePaths.append(os.path.join(mutperiodHg19Directory, \"hg19_protein_coding_genes_TSSs\", \"hg19_protein_coding_genes_TSSs.bed\"))\n",
    "\n",
    "TSS_Names = [os.path.basename(TSS_FilePath).rsplit('.', 1)[0] for TSS_FilePath in TSS_FilePaths]\n",
    "\n",
    "runAnalysisSuite(liMutperiodInputFilePaths, TSS_Names,\n",
    "                 normalizationMethod = \"No Normalization\", customBackgroundDir = None,\n",
    "                 useSingleNucRadius = True, includeLinker = False, useNucGroupRadius = True, useNucStrand = True)\n",
    "runAnalysisSuite(liMutperiodInputFilePaths, TSS_Names,\n",
    "                 normalizationMethod = \"Singlenuc/Dinuc\", customBackgroundDir = None,\n",
    "                 useSingleNucRadius = True, includeLinker = False, useNucGroupRadius = True, useNucStrand = True)\n",
    "runAnalysisSuite(liMutperiodInputFilePaths, TSS_Names,\n",
    "                 normalizationMethod = \"Custom Background\", customBackgroundDir = jiang2uM_CellularDataDir,\n",
    "                 useSingleNucRadius = True, includeLinker = False, useNucGroupRadius = True, useNucStrand = True)\n",
    "runAnalysisSuite(liMutperiodInputFilePaths, TSS_Names,\n",
    "                 normalizationMethod = \"Trinuc/Quadrunuc\", customBackgroundDir = None,\n",
    "                 useSingleNucRadius = True, includeLinker = False, useNucGroupRadius = True, useNucStrand = True)"
   ]
  }
 ],
 "metadata": {
  "kernelspec": {
   "display_name": "Python 3",
   "language": "python",
   "name": "python3"
  },
  "language_info": {
   "codemirror_mode": {
    "name": "ipython",
    "version": 3
   },
   "file_extension": ".py",
   "mimetype": "text/x-python",
   "name": "python",
   "nbconvert_exporter": "python",
   "pygments_lexer": "ipython3",
   "version": "3.10.12"
  }
 },
 "nbformat": 4,
 "nbformat_minor": 2
}
