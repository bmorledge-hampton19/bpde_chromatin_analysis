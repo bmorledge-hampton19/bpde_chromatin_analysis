{
 "cells": [
  {
   "cell_type": "code",
   "execution_count": null,
   "metadata": {},
   "outputs": [],
   "source": [
    "import os\n",
    "from pandas import read_table\n",
    "from benbiohelpers.FileSystemHandling.DirectoryHandling import getFilesInDirectory\n",
    "from bpde_chromatin_analysis.helper_scripts.BPDE_DataDir import getDataDir\n",
    "from mutperiodpy.helper_scripts.UsefulFileSystemFunctions import DataTypeStr, Metadata\n",
    "from mutperiodpy.quick_scripts.GetNRL import getNRL\n",
    "from mutperiodpy.GeneratePlotnineFigures import parseAndPlotPeriodicity, parseNucleosomeCountsDataForPlotting, plotPeriodicity\n",
    "\n",
    "liDataDirectory = os.path.join(getDataDir(), \"Li_tXR-seq\")"
   ]
  },
  {
   "cell_type": "code",
   "execution_count": null,
   "metadata": {},
   "outputs": [],
   "source": [
    "SINGLE_NUC = 1\n",
    "NUC_GROUP = 2\n",
    "\n",
    "liRawCounts = {SINGLE_NUC:dict(), NUC_GROUP:dict()}\n",
    "liSinglenucNormalizedCounts = {SINGLE_NUC:dict(), NUC_GROUP:dict()}\n",
    "liTrinucNormalizedCounts = {SINGLE_NUC:dict(), NUC_GROUP:dict()}\n",
    "liDamageNormalizedCounts = {SINGLE_NUC:dict(), NUC_GROUP:dict()}\n",
    "NRLs = dict()\n",
    "\n",
    "nucleosomeMapNameWhitelist = ['hg19_hybrid_nucleosome_map', 'hg19_LCL_MNase_nuc_map_all_mappable', 'hg19_NHF1_MNase_nuc_map_all_mappable']\n",
    "# nucleosomeMapNameWhitelist += ['hg19_LCL_MNase_nuc_map_all_mappable_euchromatin', 'hg19_LCL_MNase_nuc_map_all_mappable_heterochromatin',\n",
    "#                               'hg19_LCL_MNase_nuc_map_all_mappable_stringent_euchromatin']\n",
    "\n",
    "for nucleosomeCountsFilePath in getFilesInDirectory(liDataDirectory, DataTypeStr.rawNucCounts+\".tsv\"):\n",
    "\n",
    "    countsMetadata = Metadata(nucleosomeCountsFilePath)\n",
    "    if countsMetadata.nucPosName not in nucleosomeMapNameWhitelist: continue\n",
    "\n",
    "    if \"nuc-group\" in nucleosomeCountsFilePath: radius = NUC_GROUP\n",
    "    else: radius = SINGLE_NUC\n",
    "\n",
    "    liRawCounts[radius][countsMetadata.nucPosName] = read_table(nucleosomeCountsFilePath)\n",
    "\n",
    "    if countsMetadata.nucPosName not in NRLs: NRLs[countsMetadata.nucPosName] = getNRL([countsMetadata.baseNucPosFilePath])[0]\n",
    "\n",
    "for nucleosomeCountsFilePath in getFilesInDirectory(liDataDirectory, DataTypeStr.normNucCounts+\".tsv\"):\n",
    "\n",
    "    countsMetadata = Metadata(nucleosomeCountsFilePath)\n",
    "    if countsMetadata.nucPosName not in nucleosomeMapNameWhitelist: continue\n",
    "\n",
    "    if \"nuc-group\" in nucleosomeCountsFilePath: radius = NUC_GROUP\n",
    "    else: radius = SINGLE_NUC\n",
    "\n",
    "    if \"singlenuc\" in os.path.basename(nucleosomeCountsFilePath):\n",
    "        liSinglenucNormalizedCounts[radius][countsMetadata.nucPosName] = read_table(nucleosomeCountsFilePath)\n",
    "    if \"trinuc\" in os.path.basename(nucleosomeCountsFilePath):\n",
    "        liTrinucNormalizedCounts[radius][countsMetadata.nucPosName] = read_table(nucleosomeCountsFilePath)\n",
    "    elif \"custom_context\" in os.path.basename(nucleosomeCountsFilePath):\n",
    "        liDamageNormalizedCounts[radius][countsMetadata.nucPosName] = read_table(nucleosomeCountsFilePath)\n",
    "\n",
    "    if countsMetadata.nucPosName not in NRLs: NRLs[countsMetadata.nucPosName] = getNRL([countsMetadata.baseNucPosFilePath])[0]"
   ]
  },
  {
   "cell_type": "code",
   "execution_count": null,
   "metadata": {},
   "outputs": [],
   "source": [
    "for radius in liRawCounts:\n",
    "    for nucleosomeMapName in liRawCounts[radius]:\n",
    "        plot = parseAndPlotPeriodicity(liRawCounts[radius][nucleosomeMapName], dataCol = \"Aligned_Strands_Counts\",\n",
    "                                       smoothTranslational = False, nucRepLen = NRLs[nucleosomeMapName],\n",
    "                                       title = f\"Li {nucleosomeMapName} Raw\", yAxisLabel = \"Counts\")\n",
    "        print(plot)"
   ]
  },
  {
   "cell_type": "code",
   "execution_count": null,
   "metadata": {},
   "outputs": [],
   "source": [
    "for radius in liSinglenucNormalizedCounts:\n",
    "    for nucleosomeMapName in liSinglenucNormalizedCounts[radius]:\n",
    "        plot = parseAndPlotPeriodicity(liSinglenucNormalizedCounts[radius][nucleosomeMapName], dataCol = \"Normalized_Aligned_Strands\",\n",
    "                                       smoothTranslational = True, nucRepLen = NRLs[nucleosomeMapName],\n",
    "                                       title = f\"Li {nucleosomeMapName} Singlenuc Normalized\", yAxisLabel = \"Normalized Counts\")\n",
    "        print(plot)"
   ]
  },
  {
   "cell_type": "code",
   "execution_count": null,
   "metadata": {},
   "outputs": [],
   "source": [
    "for radius in liTrinucNormalizedCounts:\n",
    "    for nucleosomeMapName in liTrinucNormalizedCounts[radius]:\n",
    "        plot = parseAndPlotPeriodicity(liTrinucNormalizedCounts[radius][nucleosomeMapName], dataCol = \"Normalized_Aligned_Strands\",\n",
    "                                       smoothTranslational = True, nucRepLen = NRLs[nucleosomeMapName],\n",
    "                                       title = f\"Li {nucleosomeMapName} Trinuc Normalized\", yAxisLabel = \"Normalized Counts\")\n",
    "        print(plot)"
   ]
  },
  {
   "cell_type": "code",
   "execution_count": null,
   "metadata": {},
   "outputs": [],
   "source": [
    "for radius in liDamageNormalizedCounts:\n",
    "    for nucleosomeMapName in liDamageNormalizedCounts[radius]:\n",
    "        plot = parseAndPlotPeriodicity(liDamageNormalizedCounts[radius][nucleosomeMapName], dataCol = \"Normalized_Aligned_Strands\",\n",
    "                                       smoothTranslational = True, nucRepLen = NRLs[nucleosomeMapName],\n",
    "                                       title = f\"Li {nucleosomeMapName} Damage Normalized\", yAxisLabel = \"Normalized Counts\")\n",
    "        print(plot)"
   ]
  }
 ],
 "metadata": {
  "kernelspec": {
   "display_name": "Python 3",
   "language": "python",
   "name": "python3"
  },
  "language_info": {
   "codemirror_mode": {
    "name": "ipython",
    "version": 3
   },
   "file_extension": ".py",
   "mimetype": "text/x-python",
   "name": "python",
   "nbconvert_exporter": "python",
   "pygments_lexer": "ipython3",
   "version": "3.10.12"
  }
 },
 "nbformat": 4,
 "nbformat_minor": 2
}
