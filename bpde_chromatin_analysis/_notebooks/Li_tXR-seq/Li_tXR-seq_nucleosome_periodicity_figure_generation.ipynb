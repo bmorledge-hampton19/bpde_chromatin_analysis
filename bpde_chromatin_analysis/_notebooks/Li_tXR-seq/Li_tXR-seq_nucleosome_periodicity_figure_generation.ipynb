{
 "cells": [
  {
   "cell_type": "code",
   "execution_count": null,
   "metadata": {},
   "outputs": [],
   "source": [
    "import os\n",
    "from pandas import read_table\n",
    "from benbiohelpers.FileSystemHandling.DirectoryHandling import getFilesInDirectory\n",
    "from bpde_chromatin_analysis.helper_scripts.BPDE_DataDir import getDataDir\n",
    "from mutperiodpy.helper_scripts.UsefulFileSystemFunctions import DataTypeStr, Metadata, getExternalDataDirectory as getMutperiodExternalDataDirectory\n",
    "from mutperiodpy.quick_scripts.GetNRL import getNRL\n",
    "from mutperiodpy.GeneratePlotnineFigures import parseAndPlotPeriodicity, parseNucleosomeCountsDataForPlotting, plotPeriodicity\n",
    "\n",
    "mutperiodHg19Directory = os.path.join(getMutperiodExternalDataDirectory(),\"hg19\")\n",
    "\n",
    "liDataDirectory = os.path.join(getDataDir(), \"Li_tXR-seq\")"
   ]
  },
  {
   "cell_type": "code",
   "execution_count": null,
   "metadata": {},
   "outputs": [],
   "source": [
    "SINGLE_NUC = 1\n",
    "NUC_GROUP = 2\n",
    "\n",
    "liRawCounts = {SINGLE_NUC:dict(), NUC_GROUP:dict()}\n",
    "liNormalizedCounts = {SINGLE_NUC:dict(), NUC_GROUP:dict()}\n",
    "NRLs = dict()\n",
    "\n",
    "for nucleosomeCountsFilePath in getFilesInDirectory(liDataDirectory, DataTypeStr.rawNucCounts+\".tsv\"):\n",
    "\n",
    "    if \"nuc-group\" in nucleosomeCountsFilePath: radius = NUC_GROUP\n",
    "    else: radius = SINGLE_NUC\n",
    "\n",
    "    countsMetadata = Metadata(nucleosomeCountsFilePath)\n",
    "\n",
    "    liRawCounts[radius][countsMetadata.nucPosName] = read_table(nucleosomeCountsFilePath)\n",
    "\n",
    "    if countsMetadata.nucPosName not in NRLs: NRLs[countsMetadata.nucPosName] = getNRL([countsMetadata.baseNucPosFilePath])[0]\n",
    "\n",
    "for nucleosomeCountsFilePath in getFilesInDirectory(liDataDirectory, DataTypeStr.normNucCounts+\".tsv\"):\n",
    "\n",
    "    if \"nuc-group\" in nucleosomeCountsFilePath: radius = NUC_GROUP\n",
    "    else: radius = SINGLE_NUC\n",
    "\n",
    "    countsMetadata = Metadata(nucleosomeCountsFilePath)\n",
    "\n",
    "    liNormalizedCounts[radius][countsMetadata.nucPosName] = read_table(nucleosomeCountsFilePath)\n",
    "\n",
    "    if countsMetadata.nucPosName not in NRLs: NRLs[countsMetadata.nucPosName] = getNRL([countsMetadata.baseNucPosFilePath])[0]"
   ]
  },
  {
   "cell_type": "code",
   "execution_count": null,
   "metadata": {},
   "outputs": [],
   "source": [
    "for radius in liRawCounts:\n",
    "    for nucleosomeMapName in liRawCounts[radius]:\n",
    "        plot = parseAndPlotPeriodicity(liRawCounts[radius][nucleosomeMapName], dataCol = \"Aligned_Strands_Counts\",\n",
    "                                       smoothTranslational = True, nucRepLen = NRLs[nucleosomeMapName],\n",
    "                                       title = f\"Li {nucleosomeMapName} Raw\", yAxisLabel = \"Counts\")\n",
    "        print(plot)"
   ]
  },
  {
   "cell_type": "code",
   "execution_count": null,
   "metadata": {},
   "outputs": [],
   "source": [
    "for radius in liNormalizedCounts:\n",
    "    for nucleosomeMapName in liNormalizedCounts[radius]:\n",
    "        plot = parseAndPlotPeriodicity(liNormalizedCounts[radius][nucleosomeMapName], dataCol = \"Normalized_Aligned_Strands\",\n",
    "                                       smoothTranslational = True, nucRepLen = NRLs[nucleosomeMapName],\n",
    "                                       title = f\"Li {nucleosomeMapName} Damage Normalized\", yAxisLabel = \"Normalized Counts\")\n",
    "        print(plot)"
   ]
  }
 ],
 "metadata": {
  "kernelspec": {
   "display_name": "Python 3",
   "language": "python",
   "name": "python3"
  },
  "language_info": {
   "codemirror_mode": {
    "name": "ipython",
    "version": 3
   },
   "file_extension": ".py",
   "mimetype": "text/x-python",
   "name": "python",
   "nbconvert_exporter": "python",
   "pygments_lexer": "ipython3",
   "version": "3.10.12"
  }
 },
 "nbformat": 4,
 "nbformat_minor": 2
}
