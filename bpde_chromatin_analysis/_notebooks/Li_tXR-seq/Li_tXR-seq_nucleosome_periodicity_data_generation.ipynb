{
 "cells": [
  {
   "cell_type": "markdown",
   "metadata": {},
   "source": [
    "### Set up pipeline with basic imports, data directories, and file basenames."
   ]
  },
  {
   "cell_type": "code",
   "execution_count": null,
   "metadata": {},
   "outputs": [],
   "source": [
    "import os\n",
    "from benbiohelpers.DataPipelineManagement.GenomeManager import getGenomeFastaFilePath\n",
    "from bpde_chromatin_analysis.helper_scripts.BPDE_DataDir import getDataDir\n",
    "from mutperiodpy.helper_scripts.UsefulFileSystemFunctions import getExternalDataDirectory as getMutperiodExternalDataDirectory\n",
    "\n",
    "hg19FastaFilePath = getGenomeFastaFilePath(\"hg19\")\n",
    "mutperiodHg19Directory = getMutperiodExternalDataDirectory()\n",
    "\n",
    "liDataDirectory = os.path.join(getDataDir(), \"Li_tXR-seq\")\n",
    "liBaseDataFilePath = os.path.join(liDataDirectory, \"Li_tXR-seq.bed\")\n",
    "\n",
    "jiang2uM_CellularDataDir = os.path.join(getDataDir(), \"Jiang_BPDE_damage_maps\", \"BEAS-2B_2uM_BPDE_cell_24h\")"
   ]
  },
  {
   "cell_type": "markdown",
   "metadata": {},
   "source": [
    "### Parse the tXR-seq data for mutperiod input"
   ]
  },
  {
   "cell_type": "code",
   "execution_count": null,
   "metadata": {},
   "outputs": [],
   "source": [
    "from mutperiodpy.input_parsing.ParseXRSeq import parseXRSeq, PresetCallParams\n",
    "from mutperiodpy.helper_scripts.UsefulFileSystemFunctions import DataTypeStr\n",
    "from benbiohelpers.FileSystemHandling.DirectoryHandling import getFilesInDirectory\n",
    "\n",
    "if getFilesInDirectory(liDataDirectory, DataTypeStr.mutations + \".bed\", searchRecursively = False) is None:\n",
    "    print(\"Parsed data not found. Generating...\")\n",
    "    liMutperiodInputFilePaths = parseXRSeq([liBaseDataFilePath], PresetCallParams.BPDE, hg19FastaFilePath)\n",
    "else:\n",
    "    liMutperiodInputFilePaths = [getFilesInDirectory(liDataDirectory, DataTypeStr.mutations + \".bed\", searchRecursively = False)]\n",
    "    print(f\"Found parsed data at {liMutperiodInputFilePaths[0]}. Continuing.\")"
   ]
  },
  {
   "cell_type": "markdown",
   "metadata": {},
   "source": [
    "### Run the mutperiod pipeline to determine translational and rotational periodicity of the data.\n",
    "NOTE: This analysis requires that the damage data has already been parsed for mutperiod using the Jiang_damage_maps_nucleosome_periodicity_data_generation notebook."
   ]
  },
  {
   "cell_type": "code",
   "execution_count": null,
   "metadata": {},
   "outputs": [],
   "source": [
    "from mutperiodpy.RunAnalysisSuite import runAnalysisSuite\n",
    "nucleosomeMapFilePaths = list()\n",
    "nucleosomeMapFilePaths.append(os.path.join(mutperiodHg19Directory, \"hg19_hybrid_nuc_map\", \"hg19_hybrid_nuc_map.bed\"))\n",
    "nucleosomeMapFilePaths.append(os.path.join(mutperiodHg19Directory, \"hg19_LCL_MNase_nuc_map\", \"hg19_LCL_MNase_nuc_map.bed\"))\n",
    "# nucleosomeMapFilePaths.append(os.path.join(mutperiodHg19Directory, \"hg19_LCL_MNase_nuc_map_euchromatin\",\n",
    "#                                            \"hg19_LCL_MNase_nuc_map_euchromatin.bed\"))\n",
    "# nucleosomeMapFilePaths.append(os.path.join(mutperiodHg19Directory, \"hg19_LCL_MNase_nuc_map_heterochromatin\",\n",
    "#                                            \"hg19_LCL_MNase_nuc_map_heterochromatin.bed\"))\n",
    "# nucleosomeMapFilePaths.append(os.path.join(mutperiodHg19Directory, \"hg19_LCL_MNase_nuc_map_stringent_euchromatin\",\n",
    "#                                            \"hg19_LCL_MNase_nuc_map_stringent_euchromatin.bed\"))\n",
    "nucleosomeMapFilePaths.append(os.path.join(mutperiodHg19Directory, \"hg19_NHF1_MNase_nuc_map\", \"hg19_NHF1_MNase_nuc_map.bed\"))\n",
    "\n",
    "nucleosomeMapNames = [os.path.basename(nucleosomeMapFilePath).rsplit('.', 1)[0] for nucleosomeMapFilePath in nucleosomeMapFilePaths]\n",
    "\n",
    "runAnalysisSuite(liMutperiodInputFilePaths, nucleosomeMapNames,\n",
    "                 normalizationMethod = \"No Normalization\", customBackgroundDir = None,\n",
    "                 useSingleNucRadius = True, includeLinker = False, useNucGroupRadius = True)\n",
    "runAnalysisSuite(liMutperiodInputFilePaths, nucleosomeMapNames,\n",
    "                 normalizationMethod = \"Singlenuc/Dinuc\", customBackgroundDir = None,\n",
    "                 useSingleNucRadius = True, includeLinker = False, useNucGroupRadius = True)\n",
    "runAnalysisSuite(liMutperiodInputFilePaths, nucleosomeMapNames,\n",
    "                 normalizationMethod = \"Trinuc/Quadrunuc\", customBackgroundDir = None,\n",
    "                 useSingleNucRadius = True, includeLinker = False, useNucGroupRadius = True)\n",
    "runAnalysisSuite(liMutperiodInputFilePaths, nucleosomeMapNames,\n",
    "                 normalizationMethod = \"Custom Background\", customBackgroundDir = jiang2uM_CellularDataDir,\n",
    "                 useSingleNucRadius = True, includeLinker = False, useNucGroupRadius = True)"
   ]
  },
  {
   "cell_type": "code",
   "execution_count": null,
   "metadata": {},
   "outputs": [],
   "source": [
    "from mutperiodpy.RunNucleosomeMutationAnalysis import runNucleosomeMutationAnalysis\n",
    "\n",
    "rawNucleosomeCountsFilePaths = list()\n",
    "for nucleosomeMapName in nucleosomeMapNames:\n",
    "    rawNucleosomeCountsFilePaths += getFilesInDirectory(os.path.join(liDataDirectory, nucleosomeMapName), DataTypeStr.rawNucCounts + \".tsv\")\n",
    "runNucleosomeMutationAnalysis(rawNucleosomeCountsFilePaths,\n",
    "                              outputFilePath = os.path.join(liDataDirectory, \"Li_tXR-seq_raw_periodicity_data.tsv\"),\n",
    "                              overridePeakPeriodicityWithExpected = False, alignStrands = True)\n",
    "\n",
    "normalizedNucleosomeCountsFilePaths = list()\n",
    "for nucleosomeMapName in nucleosomeMapNames:\n",
    "    normalizedNucleosomeCountsFilePaths += getFilesInDirectory(os.path.join(liDataDirectory, nucleosomeMapName), DataTypeStr.normNucCounts + \".tsv\")\n",
    "runNucleosomeMutationAnalysis(normalizedNucleosomeCountsFilePaths,\n",
    "                              outputFilePath = os.path.join(liDataDirectory, \"Li_tXR-seq_damage_normalized_periodicity_data.tsv\"),\n",
    "                              overridePeakPeriodicityWithExpected = False, alignStrands = True)"
   ]
  }
 ],
 "metadata": {
  "kernelspec": {
   "display_name": "Python 3",
   "language": "python",
   "name": "python3"
  },
  "language_info": {
   "codemirror_mode": {
    "name": "ipython",
    "version": 3
   },
   "file_extension": ".py",
   "mimetype": "text/x-python",
   "name": "python",
   "nbconvert_exporter": "python",
   "pygments_lexer": "ipython3",
   "version": "3.10.12"
  }
 },
 "nbformat": 4,
 "nbformat_minor": 2
}
