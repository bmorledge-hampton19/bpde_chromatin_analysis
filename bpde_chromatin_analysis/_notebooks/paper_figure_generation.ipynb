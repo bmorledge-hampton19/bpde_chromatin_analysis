{
 "cells": [
  {
   "cell_type": "code",
   "execution_count": null,
   "metadata": {},
   "outputs": [],
   "source": [
    "import os\n",
    "from plotnine import theme\n",
    "from pandas import read_table\n",
    "from benbiohelpers.FileSystemHandling.DirectoryHandling import checkDirs\n",
    "from bpde_chromatin_analysis.helper_scripts.BPDE_DataDir import getDataDir\n",
    "from bpde_chromatin_analysis.PlottingFunctions import *\n",
    "from bpde_chromatin_analysis.CallDyadPeaks import callDyadPeaks\n",
    "from mutperiodpy.helper_scripts.UsefulFileSystemFunctions import getExternalDataDirectory as getMutperiodExternalDataDirectory\n",
    "from mutperiodpy.quick_scripts.GetNRL import getNRL\n",
    "from mutperiodpy.GeneratePlotnineFigures import parseAndPlotPeriodicity\n",
    "\n",
    "mutperiodHg19Directory = os.path.join(getMutperiodExternalDataDirectory(),\"hg19\")\n",
    "\n",
    "alexandrovDataDirectory = os.path.join(getDataDir(), \"Alexandrov_LUAD\")\n",
    "liDataDirectory = os.path.join(getDataDir(), \"Li_tXR-seq\")\n",
    "jiangDataDirectory = os.path.join(getDataDir(), \"Jiang_BPDE_damage_maps\")\n",
    "relativeNucleosomeDataDirectory = os.path.join(getDataDir(), \"relative_nucleosome_patterns\")\n",
    "relativeTFBS_DataDirectory = os.path.join(getDataDir(), \"relative_TFBS_patterns\")\n",
    "\n",
    "hybridNucMapNRL = getNRL([os.path.join(mutperiodHg19Directory, \"hg19_hybrid_nuc_map\", \"hg19_hybrid_nuc_map.bed\")])[0]\n",
    "LCL_NucMapNRL = getNRL([os.path.join(mutperiodHg19Directory, \"hg19_LCL_MNase_nuc_map\", \"hg19_LCL_MNase_nuc_map.bed\")])[0]\n",
    "\n",
    "outputDPI = 1000\n",
    "paperFiguresOutputDir = os.path.join(getDataDir(), \"paper_figures\")\n",
    "checkDirs(paperFiguresOutputDir)"
   ]
  },
  {
   "cell_type": "markdown",
   "metadata": {},
   "source": [
    "#### Figure 1"
   ]
  },
  {
   "cell_type": "code",
   "execution_count": null,
   "metadata": {},
   "outputs": [],
   "source": [
    "alexandrovTranslationalData = read_table(os.path.join(alexandrovDataDirectory, \"hg19_hybrid_nuc_map\",\n",
    "                                                      \"Alexandrov_LUAD_hybrid_nuc_map_trinuc_nuc-group_normalized_nucleosome_mutation_counts.tsv\"))\n",
    "jiangTranslationalData = read_table(os.path.join(jiangDataDirectory, \"BEAS-2B_2uM_BPDE_cell_24h\", \"hg19_hybrid_nuc_map\",\n",
    "                                                 \"BEAS-2B_2uM_BPDE_cell_24h_hybrid_nuc_map_custom_context_nuc-group_normalized_nucleosome_mutation_counts.tsv\"))\n",
    "liTranslationalData = read_table(os.path.join(liDataDirectory, \"hg19_hybrid_nuc_map\",\n",
    "                                              \"Li_tXR-seq_hybrid_nuc_map_trinuc_nuc-group_normalized_nucleosome_mutation_counts.tsv\"))"
   ]
  },
  {
   "cell_type": "markdown",
   "metadata": {},
   "source": [
    "1A"
   ]
  },
  {
   "cell_type": "code",
   "execution_count": null,
   "metadata": {},
   "outputs": [],
   "source": [
    "plot = parseAndPlotPeriodicity(alexandrovTranslationalData, dataCol = \"Normalized_Both_Strands\",\n",
    "                               smoothTranslational = True, overlaySmoothedAndNormal = True, nucRepLen = hybridNucMapNRL,\n",
    "                               title = f\"Alexandrov Hybrid Nuc Map Trinuc Normalized\", yAxisLabel = \"Normalized Mutation Counts\")\n",
    "plot.show()\n",
    "plot.save(os.path.join(paperFiguresOutputDir, \"1A.png\"), dpi = outputDPI)"
   ]
  },
  {
   "cell_type": "markdown",
   "metadata": {},
   "source": [
    "1B"
   ]
  },
  {
   "cell_type": "code",
   "execution_count": null,
   "metadata": {},
   "outputs": [],
   "source": [
    "plot = parseAndPlotPeriodicity(jiangTranslationalData, dataCol = \"Normalized_Both_Strands\",\n",
    "                               smoothTranslational = True, overlaySmoothedAndNormal = True, nucRepLen = hybridNucMapNRL,\n",
    "                               title = f\"Jiang Hybrid Nuc Map Naked Normalized\", yAxisLabel = \"Cellular/Naked Damage\",\n",
    "                               ylim = (0.8,1.3))\n",
    "plot.show()\n",
    "plot.save(os.path.join(paperFiguresOutputDir, \"1B.png\"), dpi = outputDPI)"
   ]
  },
  {
   "cell_type": "markdown",
   "metadata": {},
   "source": [
    "1C"
   ]
  },
  {
   "cell_type": "code",
   "execution_count": null,
   "metadata": {},
   "outputs": [],
   "source": [
    "plot = parseAndPlotPeriodicity(liTranslationalData, dataCol = \"Normalized_Both_Strands\",\n",
    "                               smoothTranslational = True, overlaySmoothedAndNormal = True, nucRepLen = hybridNucMapNRL,\n",
    "                               title = f\"Li Hybrid Nuc Map Trinuc Normalized\", yAxisLabel = \"Normalized Repair Activity\",\n",
    "                               ylim = (0.6,1.6))\n",
    "plot.show()\n",
    "plot.save(os.path.join(paperFiguresOutputDir, \"1C.png\"), dpi = outputDPI)"
   ]
  },
  {
   "cell_type": "markdown",
   "metadata": {},
   "source": [
    "#### Figure 2"
   ]
  },
  {
   "cell_type": "code",
   "execution_count": null,
   "metadata": {},
   "outputs": [],
   "source": [
    "jiangRotationalData = read_table(os.path.join(jiangDataDirectory, \"BEAS-2B_2uM_BPDE_cell_24h\", \"hg19_hybrid_nuc_map\",\n",
    "                                              \"BEAS-2B_2uM_BPDE_cell_24h_hybrid_nuc_map_custom_context_normalized_nucleosome_mutation_counts.tsv\"))\n",
    "liRotationalData = read_table(os.path.join(liDataDirectory, \"hg19_hybrid_nuc_map\",\n",
    "                                           \"Li_tXR-seq_hybrid_nuc_map_trinuc_normalized_nucleosome_mutation_counts.tsv\"))"
   ]
  },
  {
   "cell_type": "markdown",
   "metadata": {},
   "source": [
    "2A"
   ]
  },
  {
   "cell_type": "code",
   "execution_count": null,
   "metadata": {},
   "outputs": [],
   "source": [
    "plot = parseAndPlotPeriodicity(jiangRotationalData, dataCol = \"Normalized_Both_Strands\", nucRepLen = hybridNucMapNRL,\n",
    "                               title = f\"Jiang Hybrid Nuc Map Naked Normalized\", yAxisLabel = \"Cellular/Naked Damage\",\n",
    "                               ylim = (0.8,1.2))\n",
    "plot.show()\n",
    "plot.save(os.path.join(paperFiguresOutputDir, \"2A.png\"), dpi = outputDPI)"
   ]
  },
  {
   "cell_type": "markdown",
   "metadata": {},
   "source": [
    "2B"
   ]
  },
  {
   "cell_type": "code",
   "execution_count": null,
   "metadata": {},
   "outputs": [],
   "source": [
    "plot = parseAndPlotPeriodicity(liRotationalData, dataCol = \"Normalized_Both_Strands\", nucRepLen = hybridNucMapNRL,\n",
    "                               title = f\"Li Hybrid Nuc Map Trinuc Normalized\", yAxisLabel = \"Normalized Repair Activity\")\n",
    "plot.show()\n",
    "plot.save(os.path.join(paperFiguresOutputDir, \"2B.png\"), dpi = outputDPI)"
   ]
  },
  {
   "cell_type": "markdown",
   "metadata": {},
   "source": [
    "#### Figure 3"
   ]
  },
  {
   "cell_type": "code",
   "execution_count": null,
   "metadata": {},
   "outputs": [],
   "source": [
    "jiangCTCF = read_table(os.path.join(jiangDataDirectory, \"BEAS-2B_2uM_BPDE_cell_24h\", \"hg19_CTCF_known\",\n",
    "                                    \"BEAS-2B_2uM_BPDE_cell_24h_CTCF_known_custom_context_nuc-group_normalized_nucleosome_mutation_counts.tsv\"))\n",
    "liCTCF = read_table(os.path.join(liDataDirectory, \"hg19_CTCF_known\",\n",
    "                                 \"Li_tXR-seq_CTCF_known_trinuc_nuc-group_normalized_nucleosome_mutation_counts.tsv\"))\n",
    "alexandrovCTCF = read_table(os.path.join(alexandrovDataDirectory, \"hg19_CTCF_known\",\n",
    "                                         \"Alexandrov_LUAD_CTCF_known_trinuc_nuc-group_normalized_nucleosome_mutation_counts.tsv\"))\n",
    "\n",
    "CTCF_RelativeHybridDyads = read_table(os.path.join(relativeNucleosomeDataDirectory, \"hybrid\", \"hg19_CTCF_known\", \"hybrid_CTCF_known_nuc-group_raw_nucleosome_mutation_counts.tsv\"))\n",
    "CTCF_RelativeHybridDyadPeaks = callDyadPeaks(CTCF_RelativeHybridDyads, smoothingWindow = 11, blacklistedRegions=range(-100,101), peakExclusionRadius = 160)\n",
    "# CTCF_RelativeLCL_Dyads = read_table(os.path.join(relativeNucleosomeDataDirectory, \"LCL_MNase\", \"hg19_CTCF_known\", \"LCL_MNase_CTCF_known_nuc-group_raw_nucleosome_mutation_counts.tsv\"))\n",
    "# CTCF_RelativeLCL_DyadPeaks = callDyadPeaks(CTCF_RelativeLCL_Dyads, smoothingWindow = 11, blacklistedRegions=range(-100,101), peakExclusionRadius = 160)"
   ]
  },
  {
   "cell_type": "markdown",
   "metadata": {},
   "source": [
    "3A"
   ]
  },
  {
   "cell_type": "code",
   "execution_count": null,
   "metadata": {},
   "outputs": [],
   "source": [
    "plot = plotFeatureWithCustomNucleosomes(jiangCTCF, CTCF_RelativeHybridDyadPeaks, blacklistedRegions = range(-50,51),\n",
    "                                        title = \"CTCF Damage\", xAxisLabel = \"Position Relative to CTCF Midpoint (bp)\",yAxisLabel = \"Cellular/Naked Damage\")\n",
    "plot.show()\n",
    "plot.save(os.path.join(paperFiguresOutputDir, \"3A.png\"), dpi = outputDPI)"
   ]
  },
  {
   "cell_type": "markdown",
   "metadata": {},
   "source": [
    "3B"
   ]
  },
  {
   "cell_type": "code",
   "execution_count": null,
   "metadata": {},
   "outputs": [],
   "source": [
    "plot = plotFeatureWithCustomNucleosomes(liCTCF, CTCF_RelativeHybridDyadPeaks, blacklistedRegions = range(-50,51),\n",
    "                                        title = \"CTCF Repair\", xAxisLabel = \"Position Relative to CTCF Midpoint (bp)\", yAxisLabel = \"Normalized Repair Activity\",\n",
    "                                        ylim = (0,4))\n",
    "plot.show()\n",
    "plot.save(os.path.join(paperFiguresOutputDir, \"3B.png\"), dpi = outputDPI)\n",
    "print(CTCF_RelativeHybridDyadPeaks)"
   ]
  },
  {
   "cell_type": "markdown",
   "metadata": {},
   "source": [
    "3C"
   ]
  },
  {
   "cell_type": "code",
   "execution_count": null,
   "metadata": {},
   "outputs": [],
   "source": [
    "plot = plotFeatureWithCustomNucleosomes(alexandrovCTCF, CTCF_RelativeHybridDyadPeaks, blacklistedRegions = range(-50,51),\n",
    "                         title = \"CTCF Mutations\", xAxisLabel = \"Position Relative to CTCF Midpoint (bp)\", yAxisLabel = \"Normalized Mutation Counts\",\n",
    "                         ylim = (0,2.1))\n",
    "plot.show()\n",
    "plot.save(os.path.join(paperFiguresOutputDir, \"3C.png\"), dpi = outputDPI)"
   ]
  },
  {
   "cell_type": "markdown",
   "metadata": {},
   "source": [
    "#### Figure 4"
   ]
  },
  {
   "cell_type": "code",
   "execution_count": null,
   "metadata": {},
   "outputs": [],
   "source": [
    "liSP1 = read_table(os.path.join(liDataDirectory, \"hg19_SP1_known\",\n",
    "                                \"Li_tXR-seq_SP1_known_trinuc_nuc-group_normalized_nucleosome_mutation_counts.tsv\"))\n",
    "jiangSP1 = read_table(os.path.join(jiangDataDirectory, \"BEAS-2B_2uM_BPDE_cell_24h\", \"hg19_SP1_known\",\n",
    "                                   \"BEAS-2B_2uM_BPDE_cell_24h_SP1_known_custom_context_nuc-group_normalized_nucleosome_mutation_counts.tsv\"))"
   ]
  },
  {
   "cell_type": "markdown",
   "metadata": {},
   "source": [
    "4A"
   ]
  },
  {
   "cell_type": "code",
   "execution_count": null,
   "metadata": {},
   "outputs": [],
   "source": [
    "plot = plotDamageAndRepair(jiangSP1, liSP1, title = \"SP1 Damage vs. Repair\", xAxisLabel = \"Position Relative to SP1 Midpoint (bp)\",\n",
    "                           ylim = (0,2.5))\n",
    "plot.show()\n",
    "plot.save(os.path.join(paperFiguresOutputDir, \"4A.png\"), dpi = outputDPI)"
   ]
  },
  {
   "cell_type": "markdown",
   "metadata": {},
   "source": [
    "4B"
   ]
  },
  {
   "cell_type": "code",
   "execution_count": null,
   "metadata": {},
   "outputs": [],
   "source": [
    "plot = plotDamageAndRepair(jiangSP1, liSP1, title = \"SP1 Damage vs. Repair\", xAxisLabel = \"Position Relative to SP1 Midpoint (bp)\",\n",
    "                           xlim = (-100,100), ylim = (0,2.5), smoothData = False, overlaySmoothedAndNormal = False)\n",
    "plot.show()\n",
    "plot.save(os.path.join(paperFiguresOutputDir, \"4B.png\"), dpi = outputDPI)"
   ]
  },
  {
   "cell_type": "markdown",
   "metadata": {},
   "source": [
    "#### Figure 5"
   ]
  },
  {
   "cell_type": "code",
   "execution_count": null,
   "metadata": {},
   "outputs": [],
   "source": [
    "liTSS = read_table(os.path.join(liDataDirectory, \"hg19_protein_coding_genes_TSSs\",\n",
    "                                 \"Li_tXR-seq_TSSs_trinuc_nuc-group_normalized_nucleosome_mutation_counts.tsv\"))\n",
    "jiangTSS = read_table(os.path.join(jiangDataDirectory, \"BEAS-2B_2uM_BPDE_cell_24h\", \"hg19_protein_coding_genes_TSSs\",\n",
    "                                    \"BEAS-2B_2uM_BPDE_cell_24h_TSSs_custom_context_nuc-group_normalized_nucleosome_mutation_counts.tsv\"))\n",
    "\n",
    "TSS_RelativeSP1 = read_table(os.path.join(relativeTFBS_DataDirectory, \"SP1\", \"hg19_protein_coding_genes_TSSs\",\n",
    "                                          \"SP1_TSSs_nuc-group_raw_nucleosome_mutation_counts.tsv\"))\n",
    "TSS_RelativeHybridDyads = read_table(os.path.join(relativeNucleosomeDataDirectory, \"hybrid\", \"hg19_protein_coding_genes_TSSs\",\n",
    "                                                  \"hybrid_TSSs_nuc-group_raw_nucleosome_mutation_counts.tsv\"))\n",
    "TSS_RelativeHybridDyadPeaks = callDyadPeaks(CTCF_RelativeHybridDyads, smoothingWindow = 11, blacklistedRegions=range(-1000,1), peakExclusionRadius = 160)\n",
    "# TSS_RelativeLCL_Dyads = read_table(os.path.join(relativeNucleosomeDataDirectory, \"LCL_MNase\", \"hg19_protein_coding_genes_TSSs\",\n",
    "#                                                 \"LCL_MNase_TSSs_nuc-group_raw_nucleosome_mutation_counts.tsv\"))"
   ]
  },
  {
   "cell_type": "markdown",
   "metadata": {},
   "source": [
    "5A"
   ]
  },
  {
   "cell_type": "code",
   "execution_count": null,
   "metadata": {},
   "outputs": [],
   "source": [
    "plot = plotDamageAndRepair(jiangTSS, liTSS, title = \"TSS Damage vs. Repair\", xAxisLabel = \"Position Relative to TSS (bp)\",\n",
    "                           ylim = (0.5,2))\n",
    "plot.show()\n",
    "plot.save(os.path.join(paperFiguresOutputDir, \"5A.png\"), dpi = outputDPI)"
   ]
  },
  {
   "cell_type": "markdown",
   "metadata": {},
   "source": [
    "5B"
   ]
  },
  {
   "cell_type": "code",
   "execution_count": null,
   "metadata": {},
   "outputs": [],
   "source": [
    "plot = plotSingleFeature(TSS_RelativeSP1, \"Both_Strands_Counts\",\n",
    "                         title = \"SP1 Sites Relative to TSS\", xAxisLabel = \"Position Relative to TSS (bp)\", yAxisLabel = \"SP1 Midpoint Counts\")\n",
    "plot = plot + theme(figure_size = (10.3,6))\n",
    "plot.show()\n",
    "plot.save(os.path.join(paperFiguresOutputDir, \"5B.png\"), dpi = outputDPI)"
   ]
  },
  {
   "cell_type": "markdown",
   "metadata": {},
   "source": [
    "5C"
   ]
  },
  {
   "cell_type": "code",
   "execution_count": null,
   "metadata": {},
   "outputs": [],
   "source": [
    "plot = plotFeatureWithCustomNucleosomes(TSS_RelativeHybridDyads, TSS_RelativeHybridDyadPeaks, \"Both_Strands_Counts\", blacklistedRegions = range(-1000,1),\n",
    "                                        title = \"Hybrid Dyads Relative to TSS\", xAxisLabel = \"Position Relative to TSS (bp)\", yAxisLabel = \"Nucleosome Dyad Counts\",\n",
    "                                        ylim = (0,33))\n",
    "plot.show()\n",
    "plot.save(os.path.join(paperFiguresOutputDir, \"5C.png\"), dpi = outputDPI)"
   ]
  },
  {
   "cell_type": "markdown",
   "metadata": {},
   "source": [
    "#### Figure S1"
   ]
  },
  {
   "cell_type": "code",
   "execution_count": null,
   "metadata": {},
   "outputs": [],
   "source": [
    "liEnrichedIndices = read_table(os.path.join(liDataDirectory, \"Li_tXR-seq_enriched_indices.tsv\"))\n",
    "liIndividualNucleotideFrequencies = read_table(os.path.join(liDataDirectory, \"Li_tXR-seq_individual_nuc_frequencies.tsv\"))"
   ]
  },
  {
   "cell_type": "markdown",
   "metadata": {},
   "source": [
    "S1A"
   ]
  },
  {
   "cell_type": "code",
   "execution_count": null,
   "metadata": {},
   "outputs": [],
   "source": [
    "plot = plotReadLengthDistribution(liEnrichedIndices, xlim = (16, 32), xAxisBreaks = (16,20,24,28,32), ylim = (0, 15000000))\n",
    "plot.show()\n",
    "plot.save(os.path.join(paperFiguresOutputDir, \"S1A.png\"), dpi = outputDPI)"
   ]
  },
  {
   "cell_type": "markdown",
   "metadata": {},
   "source": [
    "S1B"
   ]
  },
  {
   "cell_type": "code",
   "execution_count": null,
   "metadata": {},
   "outputs": [],
   "source": [
    "plot = plotIndividualFrequencies(liIndividualNucleotideFrequencies, ylim = (0, 0.6))\n",
    "plot.show()\n",
    "plot.save(os.path.join(paperFiguresOutputDir, \"S1B.png\"), dpi = outputDPI)"
   ]
  },
  {
   "cell_type": "markdown",
   "metadata": {},
   "source": [
    "#### Figure S2"
   ]
  },
  {
   "cell_type": "code",
   "execution_count": null,
   "metadata": {},
   "outputs": [],
   "source": [
    "alexandrovTranslationalLCLData = read_table(os.path.join(alexandrovDataDirectory, \"hg19_LCL_MNase_nuc_map\",\n",
    "                                                         \"Alexandrov_LUAD_LCL_MNase_map_trinuc_nuc-group_normalized_nucleosome_mutation_counts.tsv\"))\n",
    "jiangTranslationalLCLData = read_table(os.path.join(jiangDataDirectory, \"BEAS-2B_2uM_BPDE_cell_24h\", \"hg19_LCL_MNase_nuc_map\",\n",
    "                                                    \"BEAS-2B_2uM_BPDE_cell_24h_LCL_MNase_map_custom_context_nuc-group_normalized_nucleosome_mutation_counts.tsv\"))\n",
    "liTranslationalLCLData = read_table(os.path.join(liDataDirectory, \"hg19_LCL_MNase_nuc_map\",\n",
    "                                                 \"Li_tXR-seq_LCL_MNase_map_trinuc_nuc-group_normalized_nucleosome_mutation_counts.tsv\"))"
   ]
  },
  {
   "cell_type": "markdown",
   "metadata": {},
   "source": [
    "S2A"
   ]
  },
  {
   "cell_type": "code",
   "execution_count": null,
   "metadata": {},
   "outputs": [],
   "source": [
    "plot = parseAndPlotPeriodicity(alexandrovTranslationalLCLData, dataCol = \"Normalized_Both_Strands\",\n",
    "                               smoothTranslational = True, overlaySmoothedAndNormal = True, nucRepLen = hybridNucMapNRL,\n",
    "                               title = f\"Alexandrov LCL Nuc Map Trinuc Normalized\", yAxisLabel = \"Normalized Mutation Counts\",\n",
    "                               ylim = (0.8,1.2))\n",
    "plot.show()\n",
    "plot.save(os.path.join(paperFiguresOutputDir, \"S2A.png\"), dpi = outputDPI)"
   ]
  },
  {
   "cell_type": "markdown",
   "metadata": {},
   "source": [
    "S2B"
   ]
  },
  {
   "cell_type": "code",
   "execution_count": null,
   "metadata": {},
   "outputs": [],
   "source": [
    "plot = parseAndPlotPeriodicity(jiangTranslationalLCLData, dataCol = \"Normalized_Both_Strands\",\n",
    "                               smoothTranslational = True, overlaySmoothedAndNormal = True, nucRepLen = hybridNucMapNRL,\n",
    "                               title = f\"Jiang LCL Nuc Map Naked Normalized\", yAxisLabel = \"Cellular/Naked Damage\",\n",
    "                               ylim = (0.8,1.2))\n",
    "plot.show()\n",
    "plot.save(os.path.join(paperFiguresOutputDir, \"S2B.png\"), dpi = outputDPI)"
   ]
  },
  {
   "cell_type": "markdown",
   "metadata": {},
   "source": [
    "S2C"
   ]
  },
  {
   "cell_type": "code",
   "execution_count": null,
   "metadata": {},
   "outputs": [],
   "source": [
    "plot = parseAndPlotPeriodicity(liTranslationalLCLData, dataCol = \"Normalized_Both_Strands\",\n",
    "                               smoothTranslational = True, overlaySmoothedAndNormal = True, nucRepLen = hybridNucMapNRL,\n",
    "                               title = f\"Li LCL Nuc Map Trinuc Normalized\", yAxisLabel = \"Normalized Repair Activity\")\n",
    "plot.show()\n",
    "plot.save(os.path.join(paperFiguresOutputDir, \"S2C.png\"), dpi = outputDPI)"
   ]
  },
  {
   "cell_type": "markdown",
   "metadata": {},
   "source": [
    "#### Figure S3"
   ]
  },
  {
   "cell_type": "code",
   "execution_count": null,
   "metadata": {},
   "outputs": [],
   "source": [
    "jiangRotationalLCLData = read_table(os.path.join(jiangDataDirectory, \"BEAS-2B_2uM_BPDE_cell_24h\", \"hg19_LCL_MNase_nuc_map\",\n",
    "                                                 \"BEAS-2B_2uM_BPDE_cell_24h_LCL_MNase_map_custom_context_normalized_nucleosome_mutation_counts.tsv\"))\n",
    "liRotationalLCLData = read_table(os.path.join(liDataDirectory, \"hg19_LCL_MNase_nuc_map\",\n",
    "                                              \"Li_tXR-seq_LCL_MNase_map_trinuc_normalized_nucleosome_mutation_counts.tsv\"))"
   ]
  },
  {
   "cell_type": "markdown",
   "metadata": {},
   "source": [
    "S3A"
   ]
  },
  {
   "cell_type": "code",
   "execution_count": null,
   "metadata": {},
   "outputs": [],
   "source": [
    "plot = parseAndPlotPeriodicity(jiangRotationalLCLData, dataCol = \"Normalized_Both_Strands\", nucRepLen = hybridNucMapNRL,\n",
    "                               title = f\"Jiang LCL Nuc Map Naked Normalized\", yAxisLabel = \"Cellular/Naked Damage\",\n",
    "                               ylim = (0.8,1.2))\n",
    "plot.show()\n",
    "plot.save(os.path.join(paperFiguresOutputDir, \"S3A.png\"), dpi = outputDPI)"
   ]
  },
  {
   "cell_type": "markdown",
   "metadata": {},
   "source": [
    "S3B"
   ]
  },
  {
   "cell_type": "code",
   "execution_count": null,
   "metadata": {},
   "outputs": [],
   "source": [
    "plot = parseAndPlotPeriodicity(liRotationalLCLData, dataCol = \"Normalized_Both_Strands\", nucRepLen = hybridNucMapNRL,\n",
    "                               title = f\"Li LCL Nuc Map Trinuc Normalized\", yAxisLabel = \"Normalized Repair Activity\",\n",
    "                               ylim = (0.8,1.2))\n",
    "plot.show()\n",
    "plot.save(os.path.join(paperFiguresOutputDir, \"S3B.png\"), dpi = outputDPI)"
   ]
  },
  {
   "cell_type": "markdown",
   "metadata": {},
   "source": [
    "#### Figure S4"
   ]
  },
  {
   "cell_type": "code",
   "execution_count": null,
   "metadata": {},
   "outputs": [],
   "source": [
    "alexandrovRotationalHybridData = read_table(os.path.join(alexandrovDataDirectory, \"hg19_hybrid_nuc_map\",\n",
    "                                                         \"Alexandrov_LUAD_hybrid_nuc_map_trinuc_normalized_nucleosome_mutation_counts.tsv\"))\n",
    "alexandrovRotationalLCLData = read_table(os.path.join(alexandrovDataDirectory, \"hg19_LCL_MNase_nuc_map\",\n",
    "                                                      \"Alexandrov_LUAD_LCL_MNase_map_trinuc_normalized_nucleosome_mutation_counts.tsv\"))\n"
   ]
  },
  {
   "cell_type": "code",
   "execution_count": null,
   "metadata": {},
   "outputs": [],
   "source": [
    "! wc -l {os.path.join(mutperiodHg19Directory, \"hg19_hybrid_nuc_map\", \"hg19_hybrid_nuc_map.bed\")}\n",
    "! wc -l {os.path.join(mutperiodHg19Directory, \"hg19_LCL_MNase_nuc_map\", \"hg19_LCL_MNase_nuc_map.bed\")}"
   ]
  },
  {
   "cell_type": "markdown",
   "metadata": {},
   "source": [
    "S4A"
   ]
  },
  {
   "cell_type": "code",
   "execution_count": null,
   "metadata": {},
   "outputs": [],
   "source": [
    "plot = parseAndPlotPeriodicity(alexandrovRotationalHybridData, dataCol = \"Normalized_Both_Strands\", nucRepLen = hybridNucMapNRL,\n",
    "                               title = f\"Alexandrov Hybrid Nuc Map Trinuc Normalized\", yAxisLabel = \"Normalized Mutation Counts\",\n",
    "                               ylim = (0.8,1.2))\n",
    "plot.show()\n",
    "plot.save(os.path.join(paperFiguresOutputDir, \"S4A.png\"), dpi = outputDPI)"
   ]
  },
  {
   "cell_type": "markdown",
   "metadata": {},
   "source": [
    "S4B"
   ]
  },
  {
   "cell_type": "code",
   "execution_count": null,
   "metadata": {},
   "outputs": [],
   "source": [
    "plot = parseAndPlotPeriodicity(alexandrovRotationalLCLData, dataCol = \"Normalized_Both_Strands\", nucRepLen = hybridNucMapNRL,\n",
    "                               title = f\"Alexandrov LCL Nuc Map Trinuc Normalized\", yAxisLabel = \"Normalized Mutation Counts\",\n",
    "                               ylim = (0.8,1.2))\n",
    "plot.show()\n",
    "plot.save(os.path.join(paperFiguresOutputDir, \"S4B.png\"), dpi = outputDPI)"
   ]
  },
  {
   "cell_type": "markdown",
   "metadata": {},
   "source": [
    "#### Figure S5"
   ]
  },
  {
   "cell_type": "markdown",
   "metadata": {},
   "source": [
    "S5A"
   ]
  },
  {
   "cell_type": "code",
   "execution_count": null,
   "metadata": {},
   "outputs": [],
   "source": [
    "plot = parseAndPlotPeriodicity(liRotationalData, dataCol = \"Normalized_Aligned_Strands\", nucRepLen = hybridNucMapNRL,\n",
    "                               title = f\"Li Hybrid Nuc Map Trinuc Normalized\", yAxisLabel = \"Normalized Repair Activity\",\n",
    "                               ylim = (0.6,1.6))\n",
    "plot.show()\n",
    "plot.save(os.path.join(paperFiguresOutputDir, \"S5A.png\"), dpi = outputDPI)"
   ]
  },
  {
   "cell_type": "markdown",
   "metadata": {},
   "source": [
    "S5B"
   ]
  },
  {
   "cell_type": "code",
   "execution_count": null,
   "metadata": {},
   "outputs": [],
   "source": [
    "plot = parseAndPlotPeriodicity(liRotationalLCLData, dataCol = \"Normalized_Aligned_Strands\", nucRepLen = hybridNucMapNRL,\n",
    "                               title = f\"Li LCL Nuc Map Trinuc Normalized\", yAxisLabel = \"Normalized Repair Activity\",\n",
    "                               ylim = (0.8,1.3))\n",
    "plot.show()\n",
    "plot.save(os.path.join(paperFiguresOutputDir, \"S5B.png\"), dpi = outputDPI)"
   ]
  },
  {
   "cell_type": "markdown",
   "metadata": {},
   "source": [
    "S5C"
   ]
  },
  {
   "cell_type": "code",
   "execution_count": null,
   "metadata": {},
   "outputs": [],
   "source": [
    "plot = parseAndPlotPeriodicity(liRotationalData, dataCol = \"Normalized_Aligned_Strands\", nucRepLen = hybridNucMapNRL,\n",
    "                               title = f\"Li Hybrid Nuc Map Trinuc Normalized\", yAxisLabel = \"Normalized Repair Activity\",\n",
    "                               colorRotationalTransitions = True, ylim = (0.6,1.6))\n",
    "plot.show()\n",
    "plot.save(os.path.join(paperFiguresOutputDir, \"S5C.png\"), dpi = outputDPI)"
   ]
  },
  {
   "cell_type": "markdown",
   "metadata": {},
   "source": [
    "S5D"
   ]
  },
  {
   "cell_type": "code",
   "execution_count": null,
   "metadata": {},
   "outputs": [],
   "source": [
    "plot = parseAndPlotPeriodicity(liRotationalLCLData, dataCol = \"Normalized_Aligned_Strands\", nucRepLen = hybridNucMapNRL,\n",
    "                               title = f\"Li LCL Nuc Map Trinuc Normalized\", yAxisLabel = \"Normalized Repair Activity\",\n",
    "                               colorRotationalTransitions = True, ylim = (0.8,1.3))\n",
    "plot.show()\n",
    "plot.save(os.path.join(paperFiguresOutputDir, \"S5D.png\"), dpi = outputDPI)"
   ]
  },
  {
   "cell_type": "markdown",
   "metadata": {},
   "source": [
    "#### Figure S6"
   ]
  },
  {
   "cell_type": "markdown",
   "metadata": {},
   "source": [
    "S6A"
   ]
  },
  {
   "cell_type": "code",
   "execution_count": null,
   "metadata": {},
   "outputs": [],
   "source": [
    "plot = plotFeatureWithCustomNucleosomes(CTCF_RelativeHybridDyads, CTCF_RelativeHybridDyadPeaks, \"Both_Strands_Counts\", blacklistedRegions = range(-50,51),\n",
    "                                        title = \"Nucleosome Dyads Relative to CTCF\", xAxisLabel = \"Position Relative to CTCF Midpoint (bp)\", yAxisLabel = \"Nucleosome Dyad Counts\")\n",
    "plot.show()\n",
    "plot.save(os.path.join(paperFiguresOutputDir, \"S6A.png\"), dpi = outputDPI)"
   ]
  },
  {
   "cell_type": "markdown",
   "metadata": {},
   "source": [
    "#### Figure S7"
   ]
  },
  {
   "cell_type": "code",
   "execution_count": null,
   "metadata": {},
   "outputs": [],
   "source": [
    "SP1_RelativeHybridDyads = read_table(os.path.join(relativeNucleosomeDataDirectory, \"hybrid\", \"hg19_SP1_known\", \"hybrid_SP1_known_nuc-group_raw_nucleosome_mutation_counts.tsv\"))\n",
    "alexandrovSP1 = read_table(os.path.join(alexandrovDataDirectory, \"hg19_SP1_known\",\n",
    "                                        \"Alexandrov_LUAD_SP1_known_trinuc_nuc-group_normalized_nucleosome_mutation_counts.tsv\"))"
   ]
  },
  {
   "cell_type": "markdown",
   "metadata": {},
   "source": [
    "S7A"
   ]
  },
  {
   "cell_type": "code",
   "execution_count": null,
   "metadata": {},
   "outputs": [],
   "source": [
    "plot = plotSingleFeature(SP1_RelativeHybridDyads, \"Both_Strands_Counts\", title = \"Nucleosome Dyads Relative to SP1\",\n",
    "                         xAxisLabel = \"Position Relative to SP1 Midpoint (bp)\", yAxisLabel = \"Nucleosome Dyad Counts\")\n",
    "plot.show()\n",
    "plot.save(os.path.join(paperFiguresOutputDir, \"S7A.png\"), dpi = outputDPI)"
   ]
  },
  {
   "cell_type": "markdown",
   "metadata": {},
   "source": [
    "S7B"
   ]
  },
  {
   "cell_type": "code",
   "execution_count": null,
   "metadata": {},
   "outputs": [],
   "source": [
    "plot = plotSingleFeature(alexandrovSP1, title = \"SP1 Mutations\", xAxisLabel = \"Position Relative to SP1 Midpoint (bp)\", yAxisLabel = \"Normalized Mutation Counts\")\n",
    "plot.show()\n",
    "plot.save(os.path.join(paperFiguresOutputDir, \"S7B.png\"), dpi = outputDPI)"
   ]
  },
  {
   "cell_type": "markdown",
   "metadata": {},
   "source": [
    "#### Dissertation Figures"
   ]
  },
  {
   "cell_type": "code",
   "execution_count": null,
   "metadata": {},
   "outputs": [],
   "source": [
    "alexandrovTSS = read_table(os.path.join(alexandrovDataDirectory, \"hg19_protein_coding_genes_TSSs\",\n",
    "                                        \"Alexandrov_LUAD_TSSs_trinuc_nuc-group_normalized_nucleosome_mutation_counts.tsv\"))"
   ]
  },
  {
   "cell_type": "markdown",
   "metadata": {},
   "source": [
    "6.1A"
   ]
  },
  {
   "cell_type": "code",
   "execution_count": null,
   "metadata": {},
   "outputs": [],
   "source": [
    "plot = plotSingleFeature(alexandrovTSS, title = \"TSS Mutations\", xAxisLabel = \"Position Relative to TSS (bp)\", yAxisLabel = \"Normalized Mutation Counts\",\n",
    "                         ylim = (0,2.5))\n",
    "plot = plot + theme(figure_size = (10.3,6))\n",
    "plot.show()\n",
    "plot.save(os.path.join(paperFiguresOutputDir, \"Dissertation_6.1A.png\"), dpi = outputDPI)"
   ]
  },
  {
   "cell_type": "markdown",
   "metadata": {},
   "source": [
    "6.1B is adapted from 5A"
   ]
  },
  {
   "cell_type": "code",
   "execution_count": null,
   "metadata": {},
   "outputs": [],
   "source": [
    "plot = plotDamageAndRepair(jiangTSS, liTSS, title = \"TSS Damage vs. Repair\", xAxisLabel = \"Position Relative to TSS (bp)\",\n",
    "                           ylim = (0,2.5))\n",
    "plot.show()\n",
    "plot.save(os.path.join(paperFiguresOutputDir, \"Dissertation_6.2B.png\"), dpi = outputDPI)"
   ]
  }
 ],
 "metadata": {
  "kernelspec": {
   "display_name": "Python 3",
   "language": "python",
   "name": "python3"
  },
  "language_info": {
   "codemirror_mode": {
    "name": "ipython",
    "version": 3
   },
   "file_extension": ".py",
   "mimetype": "text/x-python",
   "name": "python",
   "nbconvert_exporter": "python",
   "pygments_lexer": "ipython3",
   "version": "3.10.12"
  }
 },
 "nbformat": 4,
 "nbformat_minor": 2
}
