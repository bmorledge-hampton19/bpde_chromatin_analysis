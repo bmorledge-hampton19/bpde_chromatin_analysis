{
 "cells": [
  {
   "cell_type": "markdown",
   "metadata": {},
   "source": [
    "## Set up pipeline with basic imports, data directories, and file basenames."
   ]
  },
  {
   "cell_type": "code",
   "execution_count": null,
   "metadata": {},
   "outputs": [],
   "source": [
    "import os\n",
    "from benbiohelpers.DataPipelineManagement.GenomeManager import getGenomeFastaFilePath\n",
    "from bpde_chromatin_analysis.helper_scripts.BPDE_DataDir import getDataDir\n",
    "\n",
    "hg19FastaFilePath = getGenomeFastaFilePath(\"hg19\")\n",
    "\n",
    "sequenceLogoDataDirectory = os.path.join(getDataDir(), \"TFBS_sequence_logos\")\n",
    "\n",
    "bindingSitesFilePaths = [os.path.join(sequenceLogoDataDirectory, \"CTCF\", \"hg19_CTCF_known.bed\"),\n",
    "                         os.path.join(sequenceLogoDataDirectory, \"ETS_and_GABPA\", \"hg19_ETS_and_GABPA_known.bed\"),\n",
    "                         os.path.join(sequenceLogoDataDirectory, \"SP1\", \"hg19_SP1_known.bed\")]"
   ]
  },
  {
   "cell_type": "markdown",
   "metadata": {},
   "source": [
    "## Generate a sequence logo inputs for TFBSs"
   ]
  },
  {
   "cell_type": "markdown",
   "metadata": {},
   "source": [
    "### Extend the binding sites by 10 nucleotides on either side"
   ]
  },
  {
   "cell_type": "code",
   "execution_count": null,
   "metadata": {},
   "outputs": [],
   "source": [
    "from benbiohelpers.FileSystemHandling.ExpandSequenceContext import expandSequenceContext\n",
    "expandedCTCF_FilePaths = expandSequenceContext(bindingSitesFilePaths, hg19FastaFilePath, 10)"
   ]
  },
  {
   "cell_type": "markdown",
   "metadata": {},
   "source": [
    "### The relevant files are the fasta files in the intermediate_files directories. They should contain few enough sequences to make the logo at https://weblogo.berkeley.edu/logo.cgi"
   ]
  }
 ],
 "metadata": {
  "kernelspec": {
   "display_name": "Python 3",
   "language": "python",
   "name": "python3"
  },
  "language_info": {
   "codemirror_mode": {
    "name": "ipython",
    "version": 3
   },
   "file_extension": ".py",
   "mimetype": "text/x-python",
   "name": "python",
   "nbconvert_exporter": "python",
   "pygments_lexer": "ipython3",
   "version": "3.10.12"
  }
 },
 "nbformat": 4,
 "nbformat_minor": 2
}
