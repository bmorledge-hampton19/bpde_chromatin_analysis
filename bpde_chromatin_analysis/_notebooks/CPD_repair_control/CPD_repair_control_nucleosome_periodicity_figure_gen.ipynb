{
 "cells": [
  {
   "cell_type": "code",
   "execution_count": null,
   "metadata": {},
   "outputs": [],
   "source": [
    "import os\n",
    "from pandas import read_table\n",
    "from benbiohelpers.FileSystemHandling.DirectoryHandling import getFilesInDirectory\n",
    "from bpde_chromatin_analysis.helper_scripts.BPDE_DataDir import getDataDir\n",
    "from mutperiodpy.helper_scripts.UsefulFileSystemFunctions import DataTypeStr, Metadata, getExternalDataDirectory as getMutperiodExternalDataDirectory\n",
    "from mutperiodpy.quick_scripts.GetNRL import getNRL\n",
    "from mutperiodpy.GeneratePlotnineFigures import parseAndPlotPeriodicity, parseNucleosomeCountsDataForPlotting, plotPeriodicity\n",
    "\n",
    "mutperiodHg19Directory = os.path.join(getMutperiodExternalDataDirectory(),\"hg19\")\n",
    "\n",
    "CPD_DataDirectory = os.path.join(getDataDir(), \"CPD_repair_as_control\")"
   ]
  },
  {
   "cell_type": "code",
   "execution_count": null,
   "metadata": {},
   "outputs": [],
   "source": [
    "SINGLE_NUC = 1\n",
    "NUC_GROUP = 2\n",
    "\n",
    "CPD_RawCounts = {SINGLE_NUC:dict(), NUC_GROUP:dict()}\n",
    "CPD_SinglenucNormalizedCounts = {SINGLE_NUC:dict(), NUC_GROUP:dict()}\n",
    "CPD_TrinucNormalizedCounts = {SINGLE_NUC:dict(), NUC_GROUP:dict()}\n",
    "CPD_DamageNormalizedCounts = {SINGLE_NUC:dict(), NUC_GROUP:dict()}\n",
    "NRLs = {\"hg19_CTCF_known\":190}\n",
    "\n",
    "for nucleosomeCountsFilePath in getFilesInDirectory(CPD_DataDirectory, DataTypeStr.rawNucCounts+\".tsv\"):\n",
    "\n",
    "    if \"nuc-group\" in nucleosomeCountsFilePath: radius = NUC_GROUP\n",
    "    else: radius = SINGLE_NUC\n",
    "\n",
    "    countsMetadata = Metadata(nucleosomeCountsFilePath)\n",
    "\n",
    "    CPD_RawCounts[radius][countsMetadata.nucPosName] = read_table(nucleosomeCountsFilePath)\n",
    "\n",
    "    if countsMetadata.nucPosName not in NRLs: NRLs[countsMetadata.nucPosName] = getNRL([countsMetadata.baseNucPosFilePath])[0]\n",
    "\n",
    "for nucleosomeCountsFilePath in getFilesInDirectory(CPD_DataDirectory, DataTypeStr.normNucCounts+\".tsv\"):\n",
    "\n",
    "    if \"nuc-group\" in nucleosomeCountsFilePath: radius = NUC_GROUP\n",
    "    else: radius = SINGLE_NUC\n",
    "\n",
    "    countsMetadata = Metadata(nucleosomeCountsFilePath)\n",
    "\n",
    "    if \"singlenuc\" in os.path.basename(nucleosomeCountsFilePath):\n",
    "        CPD_SinglenucNormalizedCounts[radius][countsMetadata.nucPosName] = read_table(nucleosomeCountsFilePath)\n",
    "    if \"trinuc\" in os.path.basename(nucleosomeCountsFilePath):\n",
    "        CPD_TrinucNormalizedCounts[radius][countsMetadata.nucPosName] = read_table(nucleosomeCountsFilePath)\n",
    "    elif \"custom_context\" in os.path.basename(nucleosomeCountsFilePath):\n",
    "        CPD_DamageNormalizedCounts[radius][countsMetadata.nucPosName] = read_table(nucleosomeCountsFilePath)\n",
    "\n",
    "    if countsMetadata.nucPosName not in NRLs: NRLs[countsMetadata.nucPosName] = getNRL([countsMetadata.baseNucPosFilePath])[0]"
   ]
  },
  {
   "cell_type": "code",
   "execution_count": null,
   "metadata": {},
   "outputs": [],
   "source": [
    "for radius in CPD_RawCounts:\n",
    "    for nucleosomeMapName in CPD_RawCounts[radius]:\n",
    "        plot = parseAndPlotPeriodicity(CPD_RawCounts[radius][nucleosomeMapName], dataCol = \"Both_Strands_Counts\",\n",
    "                                       smoothTranslational = False, nucRepLen = NRLs[nucleosomeMapName],\n",
    "                                       title = f\"CPD {nucleosomeMapName} Raw\", yAxisLabel = \"Counts\")\n",
    "        print(plot)"
   ]
  },
  {
   "cell_type": "code",
   "execution_count": null,
   "metadata": {},
   "outputs": [],
   "source": [
    "for radius in CPD_SinglenucNormalizedCounts:\n",
    "    for nucleosomeMapName in CPD_SinglenucNormalizedCounts[radius]:\n",
    "        plot = parseAndPlotPeriodicity(CPD_SinglenucNormalizedCounts[radius][nucleosomeMapName], dataCol = \"Normalized_Aligned_Strands\",\n",
    "                                       smoothTranslational = True, nucRepLen = NRLs[nucleosomeMapName],\n",
    "                                       title = f\"CPD {nucleosomeMapName} Singlenuc Normalized\", yAxisLabel = \"Normalized Counts\")\n",
    "        print(plot)"
   ]
  },
  {
   "cell_type": "code",
   "execution_count": null,
   "metadata": {},
   "outputs": [],
   "source": [
    "for radius in CPD_TrinucNormalizedCounts:\n",
    "    for nucleosomeMapName in CPD_TrinucNormalizedCounts[radius]:\n",
    "        plot = parseAndPlotPeriodicity(CPD_TrinucNormalizedCounts[radius][nucleosomeMapName], dataCol = \"Normalized_Both_Strands\",\n",
    "                                       smoothTranslational = True, nucRepLen = NRLs[nucleosomeMapName],\n",
    "                                       title = f\"CPD {nucleosomeMapName} Trinuc Normalized\", yAxisLabel = \"Normalized Counts\")\n",
    "        print(plot)"
   ]
  },
  {
   "cell_type": "code",
   "execution_count": null,
   "metadata": {},
   "outputs": [],
   "source": [
    "for radius in CPD_DamageNormalizedCounts:\n",
    "    for nucleosomeMapName in CPD_DamageNormalizedCounts[radius]:\n",
    "        plot = parseAndPlotPeriodicity(CPD_DamageNormalizedCounts[radius][nucleosomeMapName], dataCol = \"Normalized_Aligned_Strands\",\n",
    "                                       smoothTranslational = True, nucRepLen = NRLs[nucleosomeMapName],\n",
    "                                       title = f\"CPD {nucleosomeMapName} Damage Normalized\", yAxisLabel = \"Normalized Counts\")\n",
    "        print(plot)"
   ]
  }
 ],
 "metadata": {
  "kernelspec": {
   "display_name": "Python 3",
   "language": "python",
   "name": "python3"
  },
  "language_info": {
   "codemirror_mode": {
    "name": "ipython",
    "version": 3
   },
   "file_extension": ".py",
   "mimetype": "text/x-python",
   "name": "python",
   "nbconvert_exporter": "python",
   "pygments_lexer": "ipython3",
   "version": "3.10.12"
  }
 },
 "nbformat": 4,
 "nbformat_minor": 2
}
