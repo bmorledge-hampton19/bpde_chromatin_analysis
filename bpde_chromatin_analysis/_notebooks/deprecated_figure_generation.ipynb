{
 "cells": [
  {
   "cell_type": "markdown",
   "metadata": {},
   "source": [
    "3D"
   ]
  },
  {
   "cell_type": "code",
   "execution_count": null,
   "metadata": {},
   "outputs": [],
   "source": [
    "plot = plotSingleFeature(liCTCF, title = \"CTCF Repair\", xAxisLabel = \"Position Relative to CTCF Midpoint (bp)\", yAxisLabel = \"Normalized Repair Activity\",\n",
    "                         xlim = (-10,10), ylim = (0,2), smoothData = False, overlaySmoothedAndNormal = False)\n",
    "plot.show()\n",
    "plot.save(os.path.join(paperFiguresOutputDir, \"3D.png\"), dpi = outputDPI)"
   ]
  },
  {
   "cell_type": "markdown",
   "metadata": {},
   "source": [
    "3E"
   ]
  },
  {
   "cell_type": "code",
   "execution_count": null,
   "metadata": {},
   "outputs": [],
   "source": [
    "plot = plotSingleFeature(jiangCTCF, title = \"CTCF Damage\", xAxisLabel = \"Position Relative to CTCF Midpoint (bp)\", yAxisLabel = \"Cellular/Naked Damage\",\n",
    "                         xlim = (-10,10), ylim = (0.25,2), smoothData = False, overlaySmoothedAndNormal = False)\n",
    "plot.show()\n",
    "plot.save(os.path.join(paperFiguresOutputDir, \"3E.png\"), dpi = outputDPI)"
   ]
  },
  {
   "cell_type": "markdown",
   "metadata": {},
   "source": [
    "3F"
   ]
  },
  {
   "cell_type": "code",
   "execution_count": null,
   "metadata": {},
   "outputs": [],
   "source": [
    "plot = plotSingleFeature(alexandrovCTCF, title = \"CTCF Mutations\", xAxisLabel = \"Position Relative to CTCF Midpoint (bp)\", yAxisLabel = \"Normalized Mutation Counts\",\n",
    "                         xlim = (-10,10), ylim = (0,2), smoothData = False, overlaySmoothedAndNormal = False)\n",
    "plot.show()\n",
    "plot.save(os.path.join(paperFiguresOutputDir, \"3F.png\"), dpi = outputDPI)"
   ]
  },
  {
   "cell_type": "markdown",
   "metadata": {},
   "source": [
    "4C"
   ]
  },
  {
   "cell_type": "code",
   "execution_count": null,
   "metadata": {},
   "outputs": [],
   "source": [
    "plot = plotDamageAndRepair(jiangSP1, liSP1, title = \"SP1 Damage vs. Repair\", xAxisLabel = \"Position Relative to SP1 Midpoint (bp)\",\n",
    "                           xlim = (-10,10), smoothData = False, overlaySmoothedAndNormal = False)\n",
    "plot.show()\n",
    "plot.save(os.path.join(paperFiguresOutputDir, \"4C.png\"), dpi = outputDPI)"
   ]
  }
 ],
 "metadata": {
  "language_info": {
   "name": "python"
  }
 },
 "nbformat": 4,
 "nbformat_minor": 2
}
