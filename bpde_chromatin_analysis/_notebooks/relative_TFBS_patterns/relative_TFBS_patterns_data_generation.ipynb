{
 "cells": [
  {
   "cell_type": "markdown",
   "metadata": {},
   "source": [
    "## Set up pipeline with basic imports, data directories, and file basenames."
   ]
  },
  {
   "cell_type": "code",
   "execution_count": null,
   "metadata": {},
   "outputs": [],
   "source": [
    "import os\n",
    "from benbiohelpers.DataPipelineManagement.GenomeManager import getGenomeFastaFilePath\n",
    "from bpde_chromatin_analysis.helper_scripts.BPDE_DataDir import getDataDir\n",
    "from mutperiodpy.helper_scripts.UsefulFileSystemFunctions import getExternalDataDirectory as getMutperiodExternalDataDirectory\n",
    "\n",
    "hg19FastaFilePath = getGenomeFastaFilePath(\"hg19\")\n",
    "mutperiodHg19Directory = getMutperiodExternalDataDirectory()\n",
    "\n",
    "relativeTFBS_PatternsDataDirectory = os.path.join(getDataDir(), \"relative_TFBS_patterns\")\n",
    "\n",
    "relativeTFBS_Directories = [os.path.join(relativeTFBS_PatternsDataDirectory, \"SP1\"),\n",
    "                            os.path.join(relativeTFBS_PatternsDataDirectory, \"CTCF\"),\n",
    "                            os.path.join(relativeTFBS_PatternsDataDirectory, \"ETS_and_GABPA\")]\n",
    "\n",
    "TFBS_InputFiles = {relativeTFBS_Directories[0]:\"hg19_SP1_known.bed\",\n",
    "                   relativeTFBS_Directories[1]:\"hg19_CTCF_known.bed\",\n",
    "                   relativeTFBS_Directories[2]:\"hg19_ETS_and_GABPA_known.bed\"}"
   ]
  },
  {
   "cell_type": "markdown",
   "metadata": {},
   "source": [
    "### Parse the TFBS positions for mutperiod input"
   ]
  },
  {
   "cell_type": "code",
   "execution_count": null,
   "metadata": {},
   "outputs": [],
   "source": [
    "from typing import List\n",
    "from mutperiodpy.input_parsing.ParseStandardBed import parseStandardBed\n",
    "from mutperiodpy.helper_scripts.UsefulFileSystemFunctions import DataTypeStr\n",
    "from benbiohelpers.FileSystemHandling.DirectoryHandling import getFilesInDirectory\n",
    "\n",
    "relativeTFBS_MutperiodInputPaths: List[str] = list()\n",
    "\n",
    "for relativeTFBS_Directory in relativeTFBS_Directories:\n",
    "\n",
    "    print(f\"\\nWorking in {os.path.basename(relativeTFBS_Directory)}...\")\n",
    "\n",
    "    if getFilesInDirectory(relativeTFBS_Directory, DataTypeStr.mutations + \".bed\", searchRecursively = False) is None:\n",
    "        print(\"Parsed data not found. Generating...\")\n",
    "        relativeTFBS_MutperiodInputPaths += parseStandardBed([os.path.join(relativeTFBS_Directory, TFBS_InputFiles[relativeTFBS_Directory])], hg19FastaFilePath)\n",
    "    else:\n",
    "        relativeTFBS_MutperiodInputPaths.append(getFilesInDirectory(relativeTFBS_Directory, DataTypeStr.mutations + \".bed\", searchRecursively = False))\n",
    "        print(f\"Found parsed data at {relativeTFBS_MutperiodInputPaths[-1]}. Continuing.\")"
   ]
  },
  {
   "cell_type": "markdown",
   "metadata": {},
   "source": [
    "### Run the mutperiod pipeline to determine TFBSs relative to TSSs."
   ]
  },
  {
   "cell_type": "code",
   "execution_count": null,
   "metadata": {},
   "outputs": [],
   "source": [
    "from mutperiodpy.RunAnalysisSuite import runAnalysisSuite\n",
    "relativeFeatureFilePaths: List[str] = list()\n",
    "relativeFeatureFilePaths.append(os.path.join(mutperiodHg19Directory, \"hg19_genic_regions_unnamed_TSSs\", \"hg19_genic_regions_unnamed_TSSs.bed\"))\n",
    "\n",
    "relativeFeatureNames = [os.path.basename(relativeFeatureFilePath).rsplit('.', 1)[0] for relativeFeatureFilePath in relativeFeatureFilePaths]\n",
    "\n",
    "runAnalysisSuite(relativeTFBS_MutperiodInputPaths, relativeFeatureNames,\n",
    "                 normalizationMethod = \"No Normalization\", customBackgroundDir = None,\n",
    "                 useSingleNucRadius = False, includeLinker = False, useNucGroupRadius = True, useNucStrand = True)"
   ]
  }
 ],
 "metadata": {
  "kernelspec": {
   "display_name": "Python 3",
   "language": "python",
   "name": "python3"
  },
  "language_info": {
   "codemirror_mode": {
    "name": "ipython",
    "version": 3
   },
   "file_extension": ".py",
   "mimetype": "text/x-python",
   "name": "python",
   "nbconvert_exporter": "python",
   "pygments_lexer": "ipython3",
   "version": "3.10.12"
  }
 },
 "nbformat": 4,
 "nbformat_minor": 2
}
