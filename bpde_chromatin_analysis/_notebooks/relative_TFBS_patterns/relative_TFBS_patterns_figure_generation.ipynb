{
 "cells": [
  {
   "cell_type": "code",
   "execution_count": null,
   "metadata": {},
   "outputs": [],
   "source": [
    "import os\n",
    "from pandas import read_table\n",
    "from benbiohelpers.FileSystemHandling.DirectoryHandling import getFilesInDirectory\n",
    "from bpde_chromatin_analysis.helper_scripts.BPDE_DataDir import getDataDir\n",
    "from mutperiodpy.helper_scripts.UsefulFileSystemFunctions import DataTypeStr, Metadata\n",
    "from mutperiodpy.GeneratePlotnineFigures import parseAndPlotPeriodicity\n",
    "\n",
    "relativeTFBS_PatternsDataDirectory = os.path.join(getDataDir(), \"relative_TFBS_patterns\")"
   ]
  },
  {
   "cell_type": "code",
   "execution_count": null,
   "metadata": {},
   "outputs": [],
   "source": [
    "SINGLE_NUC = 1\n",
    "NUC_GROUP = 2\n",
    "\n",
    "relativeFeatureNames = [\"hg19_genic_regions_unnamed_TSSs\"]\n",
    "\n",
    "relativeFeaturesRawCounts = dict()\n",
    "for relativeFeatureName in relativeFeatureNames:\n",
    "    relativeFeaturesRawCounts[relativeFeatureName] = {SINGLE_NUC:dict(), NUC_GROUP:dict()}\n",
    "\n",
    "    for TFBS_CountsFilePath in getFilesInDirectory(relativeTFBS_PatternsDataDirectory, DataTypeStr.rawNucCounts+\".tsv\"):\n",
    "\n",
    "        countsMetadata = Metadata(TFBS_CountsFilePath)\n",
    "        if countsMetadata.nucPosName != relativeFeatureName: continue\n",
    "\n",
    "        if \"nuc-group\" in TFBS_CountsFilePath: radius = NUC_GROUP\n",
    "        else: radius = SINGLE_NUC\n",
    "\n",
    "        relativeFeaturesRawCounts[relativeFeatureName][radius][countsMetadata.dataGroupName] = read_table(TFBS_CountsFilePath)"
   ]
  },
  {
   "cell_type": "code",
   "execution_count": null,
   "metadata": {},
   "outputs": [],
   "source": [
    "rawCountsDict = relativeFeaturesRawCounts[\"hg19_genic_regions_unnamed_TSSs\"]\n",
    "for radius in rawCountsDict:\n",
    "    for tFBS in rawCountsDict[radius]:\n",
    "        plot = parseAndPlotPeriodicity(rawCountsDict[radius][tFBS], dataCol = \"Both_Strands_Counts\",\n",
    "                                       smoothTranslational = False, nucRepLen = 2000,\n",
    "                                       title = f\"TSS {tFBS} Raw\", yAxisLabel = \"TFBS Counts\", xAxisLabel=\"Position relative to TSS (bp)\")\n",
    "        print(plot)"
   ]
  }
 ],
 "metadata": {
  "kernelspec": {
   "display_name": "Python 3",
   "language": "python",
   "name": "python3"
  },
  "language_info": {
   "codemirror_mode": {
    "name": "ipython",
    "version": 3
   },
   "file_extension": ".py",
   "mimetype": "text/x-python",
   "name": "python",
   "nbconvert_exporter": "python",
   "pygments_lexer": "ipython3",
   "version": "3.10.12"
  }
 },
 "nbformat": 4,
 "nbformat_minor": 2
}
