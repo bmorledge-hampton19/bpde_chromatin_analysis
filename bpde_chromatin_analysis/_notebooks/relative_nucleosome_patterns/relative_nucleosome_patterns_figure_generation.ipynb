{
 "cells": [
  {
   "cell_type": "code",
   "execution_count": null,
   "metadata": {},
   "outputs": [],
   "source": [
    "import os\n",
    "from pandas import read_table\n",
    "from benbiohelpers.FileSystemHandling.DirectoryHandling import getFilesInDirectory\n",
    "from bpde_chromatin_analysis.helper_scripts.BPDE_DataDir import getDataDir\n",
    "from mutperiodpy.helper_scripts.UsefulFileSystemFunctions import DataTypeStr, Metadata\n",
    "from mutperiodpy.GeneratePlotnineFigures import parseAndPlotPeriodicity\n",
    "\n",
    "relativeNucleosomePatternsDataDirectory = os.path.join(getDataDir(), \"relative_nucleosome_patterns\")"
   ]
  },
  {
   "cell_type": "code",
   "execution_count": null,
   "metadata": {},
   "outputs": [],
   "source": [
    "SINGLE_NUC = 1\n",
    "NUC_GROUP = 2\n",
    "\n",
    "relativeFeatureNames = [\"hg19_CTCF_known\", \"hg19_ETS_and_GABPA_known\", \"hg19_SP1_known\", \"hg19_genic_regions_unnamed_TSSs\"]\n",
    "\n",
    "relativeFeaturesRawCounts = dict()\n",
    "for relativeFeatureName in relativeFeatureNames:\n",
    "    relativeFeaturesRawCounts[relativeFeatureName] = {SINGLE_NUC:dict(), NUC_GROUP:dict()}\n",
    "\n",
    "    for nucleosomeCountsFilePath in getFilesInDirectory(relativeNucleosomePatternsDataDirectory, DataTypeStr.rawNucCounts+\".tsv\"):\n",
    "\n",
    "        countsMetadata = Metadata(nucleosomeCountsFilePath)\n",
    "        if countsMetadata.nucPosName != relativeFeatureName: continue\n",
    "\n",
    "        if \"nuc-group\" in nucleosomeCountsFilePath: radius = NUC_GROUP\n",
    "        else: radius = SINGLE_NUC\n",
    "\n",
    "        relativeFeaturesRawCounts[relativeFeatureName][radius][countsMetadata.dataGroupName] = read_table(nucleosomeCountsFilePath)"
   ]
  },
  {
   "cell_type": "code",
   "execution_count": null,
   "metadata": {},
   "outputs": [],
   "source": [
    "rawCountsDict = relativeFeaturesRawCounts[\"hg19_CTCF_known\"]\n",
    "for radius in rawCountsDict:\n",
    "    for nucleosomeMap in rawCountsDict[radius]:\n",
    "        plot = parseAndPlotPeriodicity(rawCountsDict[radius][nucleosomeMap], dataCol = \"Both_Strands_Counts\",\n",
    "                                       smoothTranslational = False, nucRepLen = 2000,\n",
    "                                       title = f\"CTCF {nucleosomeMap} Raw\", yAxisLabel = \"Dyad Counts\", xAxisLabel=\"Position relative to CTCF midpoint (bp)\")\n",
    "        print(plot)"
   ]
  },
  {
   "cell_type": "code",
   "execution_count": null,
   "metadata": {},
   "outputs": [],
   "source": [
    "rawCountsDict = relativeFeaturesRawCounts[\"hg19_ETS_and_GABPA_known\"]\n",
    "for radius in rawCountsDict:\n",
    "    for nucleosomeMap in rawCountsDict[radius]:\n",
    "        plot = parseAndPlotPeriodicity(rawCountsDict[radius][nucleosomeMap], dataCol = \"Both_Strands_Counts\",\n",
    "                                       smoothTranslational = False, nucRepLen = 2000,\n",
    "                                       title = f\"ETS {nucleosomeMap} Raw\", yAxisLabel = \"Dyad Counts\", xAxisLabel=\"Position relative to ETS midpoint (bp)\")\n",
    "        print(plot)"
   ]
  },
  {
   "cell_type": "code",
   "execution_count": null,
   "metadata": {},
   "outputs": [],
   "source": [
    "rawCountsDict = relativeFeaturesRawCounts[\"hg19_SP1_known\"]\n",
    "for radius in rawCountsDict:\n",
    "    for nucleosomeMap in rawCountsDict[radius]:\n",
    "        plot = parseAndPlotPeriodicity(rawCountsDict[radius][nucleosomeMap], dataCol = \"Both_Strands_Counts\",\n",
    "                                       smoothTranslational = False, nucRepLen = 2000,\n",
    "                                       title = f\"SP1 {nucleosomeMap} Raw\", yAxisLabel = \"Dyad Counts\", xAxisLabel=\"Position relative to SP1 midpoint (bp)\")\n",
    "        print(plot)"
   ]
  },
  {
   "cell_type": "code",
   "execution_count": null,
   "metadata": {},
   "outputs": [],
   "source": [
    "rawCountsDict = relativeFeaturesRawCounts[\"hg19_genic_regions_unnamed_TSSs\"]\n",
    "for radius in rawCountsDict:\n",
    "    for nucleosomeMap in rawCountsDict[radius]:\n",
    "        plot = parseAndPlotPeriodicity(rawCountsDict[radius][nucleosomeMap], dataCol = \"Both_Strands_Counts\",\n",
    "                                       smoothTranslational = False, nucRepLen = 2000,\n",
    "                                       title = f\"TSS {nucleosomeMap} Raw\", yAxisLabel = \"Dyad Counts\", xAxisLabel=\"Position relative to TSS (bp)\")\n",
    "        print(plot)"
   ]
  }
 ],
 "metadata": {
  "kernelspec": {
   "display_name": "Python 3",
   "language": "python",
   "name": "python3"
  },
  "language_info": {
   "codemirror_mode": {
    "name": "ipython",
    "version": 3
   },
   "file_extension": ".py",
   "mimetype": "text/x-python",
   "name": "python",
   "nbconvert_exporter": "python",
   "pygments_lexer": "ipython3",
   "version": "3.10.12"
  }
 },
 "nbformat": 4,
 "nbformat_minor": 2
}
