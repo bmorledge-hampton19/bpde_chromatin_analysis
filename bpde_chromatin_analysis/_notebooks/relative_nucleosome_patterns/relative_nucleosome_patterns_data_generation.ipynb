{
 "cells": [
  {
   "cell_type": "markdown",
   "metadata": {},
   "source": [
    "## Set up pipeline with basic imports, data directories, and file basenames."
   ]
  },
  {
   "cell_type": "code",
   "execution_count": null,
   "metadata": {},
   "outputs": [],
   "source": [
    "import os\n",
    "from benbiohelpers.DataPipelineManagement.GenomeManager import getGenomeFastaFilePath\n",
    "from bpde_chromatin_analysis.helper_scripts.BPDE_DataDir import getDataDir\n",
    "from mutperiodpy.helper_scripts.UsefulFileSystemFunctions import getExternalDataDirectory as getMutperiodExternalDataDirectory\n",
    "\n",
    "hg19FastaFilePath = getGenomeFastaFilePath(\"hg19\")\n",
    "mutperiodHg19Directory = getMutperiodExternalDataDirectory()\n",
    "\n",
    "relativeNucleosomePatternsDataDirectory = os.path.join(getDataDir(), \"relative_nucleosome_patterns\")\n",
    "\n",
    "relativeNucMapDirectories = [os.path.join(relativeNucleosomePatternsDataDirectory, \"hybrid\"),\n",
    "                             os.path.join(relativeNucleosomePatternsDataDirectory, \"LCL_all_mappable\"),\n",
    "                             os.path.join(relativeNucleosomePatternsDataDirectory, \"NHF1_all_mappable\")]\n",
    "\n",
    "nucMapInputFiles = {relativeNucMapDirectories[0]:\"hg19_hybrid_nucleosome_map.bed\",\n",
    "                    relativeNucMapDirectories[1]:\"hg19_LCL_MNase_nuc_map_all_mappable.bed\",\n",
    "                    relativeNucMapDirectories[2]:\"hg19_NHF1_MNase_nuc_map_all_mappable.bed\"}"
   ]
  },
  {
   "cell_type": "markdown",
   "metadata": {},
   "source": [
    "### Parse the nucleosome dyad positions for mutperiod input"
   ]
  },
  {
   "cell_type": "code",
   "execution_count": null,
   "metadata": {},
   "outputs": [],
   "source": [
    "from typing import List\n",
    "from mutperiodpy.input_parsing.ParseStandardBed import parseStandardBed\n",
    "from mutperiodpy.helper_scripts.UsefulFileSystemFunctions import DataTypeStr\n",
    "from benbiohelpers.FileSystemHandling.DirectoryHandling import getFilesInDirectory\n",
    "\n",
    "relativeNucMapMutperiodInputPaths: List[str] = list()\n",
    "\n",
    "for relativeNucMapDirectory in relativeNucMapDirectories:\n",
    "\n",
    "    print(f\"\\nWorking in {os.path.basename(relativeNucMapDirectory)}...\")\n",
    "\n",
    "    if getFilesInDirectory(relativeNucMapDirectory, DataTypeStr.mutations + \".bed\", searchRecursively = False) is None:\n",
    "        print(\"Parsed data not found. Generating...\")\n",
    "        relativeNucMapMutperiodInputPaths += parseStandardBed([os.path.join(relativeNucMapDirectory, nucMapInputFiles[relativeNucMapDirectory])], hg19FastaFilePath)\n",
    "    else:\n",
    "        relativeNucMapMutperiodInputPaths.append(getFilesInDirectory(relativeNucMapDirectory, DataTypeStr.mutations + \".bed\", searchRecursively = False))\n",
    "        print(f\"Found parsed data at {relativeNucMapMutperiodInputPaths[-1]}. Continuing.\")"
   ]
  },
  {
   "cell_type": "markdown",
   "metadata": {},
   "source": [
    "### Run the mutperiod pipeline to determine nucleosome positions relative to CTCF binding sites."
   ]
  },
  {
   "cell_type": "code",
   "execution_count": null,
   "metadata": {},
   "outputs": [],
   "source": [
    "from mutperiodpy.RunAnalysisSuite import runAnalysisSuite\n",
    "relativeFeatureFilePaths: List[str] = list()\n",
    "relativeFeatureFilePaths.append(os.path.join(mutperiodHg19Directory, \"hg19_CTCF_known_all\", \"hg19_CTCF_known_all.bed\"))\n",
    "relativeFeatureFilePaths.append(os.path.join(mutperiodHg19Directory, \"hg19_ETS_known_all\", \"hg19_ETS_known_all.bed\"))\n",
    "relativeFeatureFilePaths.append(os.path.join(mutperiodHg19Directory, \"hg19_GABPA_known_all\", \"hg19_GABPA_known_all.bed\"))\n",
    "relativeFeatureFilePaths.append(os.path.join(mutperiodHg19Directory, \"hg19_SP1_known_all\", \"hg19_SP1_known_all.bed\"))\n",
    "relativeFeatureFilePaths.append(os.path.join(mutperiodHg19Directory, \"hg19_genic_regions_unnamed_TSSs\", \"hg19_genic_regions_unnamed_TSSs.bed\"))\n",
    "\n",
    "relativeFeatureNames = [os.path.basename(relativeFeatureFilePath).rsplit('.', 1)[0] for relativeFeatureFilePath in relativeFeatureFilePaths]\n",
    "\n",
    "runAnalysisSuite(relativeNucMapMutperiodInputPaths, relativeFeatureNames,\n",
    "                 normalizationMethod = \"No Normalization\", customBackgroundDir = None,\n",
    "                 useSingleNucRadius = False, includeLinker = False, useNucGroupRadius = True, useNucStrand = True)"
   ]
  },
  {
   "cell_type": "code",
   "execution_count": null,
   "metadata": {},
   "outputs": [],
   "source": [
    "from mutperiodpy.helper_scripts.UsefulFileSystemFunctions import DataTypeStr\n",
    "from mutperiodpy.RunNucleosomeMutationAnalysis import runNucleosomeMutationAnalysis\n",
    "from benbiohelpers.FileSystemHandling.DirectoryHandling import getFilesInDirectory\n",
    "\n",
    "# Remove features that are too sparse to count.\n",
    "relativeFeatureNames.remove(\"hg19_ETS_known_all\")\n",
    "relativeFeatureNames.remove(\"hg19_GABPA_known_all\")\n",
    "\n",
    "for relativeFeatureName in relativeFeatureNames:\n",
    "    rawNucCountsFilePaths = list()\n",
    "    for relativeNucMapDirectory in relativeNucMapDirectories:\n",
    "        rawNucCountsFilePaths += getFilesInDirectory(os.path.join(relativeNucMapDirectory, relativeFeatureName), DataTypeStr.rawNucCounts + \".tsv\")\n",
    "        \n",
    "    runNucleosomeMutationAnalysis(rawNucCountsFilePaths,\n",
    "                                  outputFilePath = os.path.join(relativeNucleosomePatternsDataDirectory, f\"{relativeFeatureName}_relative_nucleosome_periodicities.tsv\"),\n",
    "                                  overridePeakPeriodicityWithExpected = False, alignStrands = False)"
   ]
  }
 ],
 "metadata": {
  "kernelspec": {
   "display_name": "Python 3",
   "language": "python",
   "name": "python3"
  },
  "language_info": {
   "codemirror_mode": {
    "name": "ipython",
    "version": 3
   },
   "file_extension": ".py",
   "mimetype": "text/x-python",
   "name": "python",
   "nbconvert_exporter": "python",
   "pygments_lexer": "ipython3",
   "version": "3.10.12"
  }
 },
 "nbformat": 4,
 "nbformat_minor": 2
}
