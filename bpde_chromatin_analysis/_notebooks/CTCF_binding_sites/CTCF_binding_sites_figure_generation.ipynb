{
 "cells": [
  {
   "cell_type": "code",
   "execution_count": null,
   "metadata": {},
   "outputs": [],
   "source": [
    "import os\n",
    "from pandas import read_table\n",
    "from benbiohelpers.FileSystemHandling.DirectoryHandling import getFilesInDirectory\n",
    "from bpde_chromatin_analysis.helper_scripts.BPDE_DataDir import getDataDir\n",
    "from mutperiodpy.helper_scripts.UsefulFileSystemFunctions import DataTypeStr, Metadata, getExternalDataDirectory as getMutperiodExternalDataDirectory\n",
    "from mutperiodpy.quick_scripts.GetNRL import getNRL\n",
    "from mutperiodpy.GeneratePlotnineFigures import parseAndPlotPeriodicity, parseNucleosomeCountsDataForPlotting, plotPeriodicity\n",
    "\n",
    "mutperiodHg19Directory = os.path.join(getMutperiodExternalDataDirectory(),\"hg19\")\n",
    "\n",
    "CTCF_NucleosomeDataDirectory = os.path.join(getDataDir(), \"CTCF_binding_sites\", \"nucleosome_maps\")"
   ]
  },
  {
   "cell_type": "code",
   "execution_count": null,
   "metadata": {},
   "outputs": [],
   "source": [
    "SINGLE_NUC = 1\n",
    "NUC_GROUP = 2\n",
    "\n",
    "CTCF_RawCounts = {SINGLE_NUC:dict(), NUC_GROUP:dict()}\n",
    "\n",
    "for nucleosomeCountsFilePath in getFilesInDirectory(CTCF_NucleosomeDataDirectory, DataTypeStr.rawNucCounts+\".tsv\"):\n",
    "\n",
    "    if \"nuc-group\" in nucleosomeCountsFilePath: radius = NUC_GROUP\n",
    "    else: radius = SINGLE_NUC\n",
    "\n",
    "    countsMetadata = Metadata(nucleosomeCountsFilePath)\n",
    "\n",
    "    CTCF_RawCounts[radius][countsMetadata.dataGroupName] = read_table(nucleosomeCountsFilePath)"
   ]
  },
  {
   "cell_type": "code",
   "execution_count": null,
   "metadata": {},
   "outputs": [],
   "source": [
    "for radius in CTCF_RawCounts:\n",
    "    for nucleosomeMapName in CTCF_RawCounts[radius]:\n",
    "        plot = parseAndPlotPeriodicity(CTCF_RawCounts[radius][nucleosomeMapName], dataCol = \"Aligned_Strands_Counts\",\n",
    "                                       smoothTranslational = False, nucRepLen = 2000,\n",
    "                                       title = f\"{nucleosomeMapName} Raw\", yAxisLabel = \"Dyad Counts\")\n",
    "        print(plot)"
   ]
  }
 ],
 "metadata": {
  "kernelspec": {
   "display_name": "Python 3",
   "language": "python",
   "name": "python3"
  },
  "language_info": {
   "codemirror_mode": {
    "name": "ipython",
    "version": 3
   },
   "file_extension": ".py",
   "mimetype": "text/x-python",
   "name": "python",
   "nbconvert_exporter": "python",
   "pygments_lexer": "ipython3",
   "version": "3.10.12"
  }
 },
 "nbformat": 4,
 "nbformat_minor": 2
}
