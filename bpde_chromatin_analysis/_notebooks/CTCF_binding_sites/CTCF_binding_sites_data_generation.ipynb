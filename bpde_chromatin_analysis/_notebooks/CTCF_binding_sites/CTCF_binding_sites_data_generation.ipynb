{
 "cells": [
  {
   "cell_type": "markdown",
   "metadata": {},
   "source": [
    "## Set up pipeline with basic imports, data directories, and file basenames."
   ]
  },
  {
   "cell_type": "code",
   "execution_count": null,
   "metadata": {},
   "outputs": [],
   "source": [
    "import os\n",
    "from benbiohelpers.DataPipelineManagement.GenomeManager import getGenomeFastaFilePath\n",
    "from bpde_chromatin_analysis.helper_scripts.BPDE_DataDir import getDataDir\n",
    "from mutperiodpy.helper_scripts.UsefulFileSystemFunctions import getExternalDataDirectory as getMutperiodExternalDataDirectory\n",
    "\n",
    "hg19FastaFilePath = getGenomeFastaFilePath(\"hg19\")\n",
    "mutperiodHg19Directory = getMutperiodExternalDataDirectory()\n",
    "\n",
    "CTCF_DataDirectory = os.path.join(getDataDir(), \"CTCF_binding_sites\")\n",
    "\n",
    "CTCF_NucMapDirectory = os.path.join(CTCF_DataDirectory, \"nucleosome_maps\")\n",
    "CTCF_NucMapFilePaths = [os.path.join(CTCF_NucMapDirectory, \"hybrid\", \"hg19_hybrid_nucleosome_map.bed\"),\n",
    "                        os.path.join(CTCF_NucMapDirectory, \"LCL_all_mappable\", \"hg19_LCL_MNase_nuc_map_all_mappable.bed\"),\n",
    "                        os.path.join(CTCF_NucMapDirectory, \"NHF1_all_mappable\", \"hg19_NHF1_MNase_nuc_map_all_mappable.bed\")]\n",
    "\n",
    "CTCF_BindingSitesFilePaths = [os.path.join(CTCF_DataDirectory, \"sequence_logo\", \"hg19_CTCF_known_all.bed\")]"
   ]
  },
  {
   "cell_type": "markdown",
   "metadata": {},
   "source": [
    "## First, run the nucleosome analysis"
   ]
  },
  {
   "cell_type": "markdown",
   "metadata": {},
   "source": [
    "### Parse the nucleosome dyad positions for mutperiod input"
   ]
  },
  {
   "cell_type": "code",
   "execution_count": null,
   "metadata": {},
   "outputs": [],
   "source": [
    "from mutperiodpy.input_parsing.ParseStandardBed import parseStandardBed\n",
    "\n",
    "CTCF_MutperiodInputFilePaths = parseStandardBed(CTCF_NucMapFilePaths, hg19FastaFilePath)"
   ]
  },
  {
   "cell_type": "markdown",
   "metadata": {},
   "source": [
    "### Run the mutperiod pipeline to determine nucleosome positions relative to CTCF binding sites."
   ]
  },
  {
   "cell_type": "code",
   "execution_count": null,
   "metadata": {},
   "outputs": [],
   "source": [
    "from mutperiodpy.RunAnalysisSuite import runAnalysisSuite\n",
    "nucleosomeMapFilePaths = list()\n",
    "nucleosomeMapFilePaths.append(os.path.join(mutperiodHg19Directory, \"hg19_CTCF_known_all\", \"hg19_CTCF_known_all.bed\"))\n",
    "\n",
    "nucleosomeMapNames = [os.path.basename(nucleosomeMapFilePath).rsplit('.', 1)[0] for nucleosomeMapFilePath in nucleosomeMapFilePaths]\n",
    "\n",
    "runAnalysisSuite(CTCF_MutperiodInputFilePaths, nucleosomeMapNames,\n",
    "                 normalizationMethod = \"No Normalization\", customBackgroundDir = None,\n",
    "                 useSingleNucRadius = False, includeLinker = False, useNucGroupRadius = True)"
   ]
  },
  {
   "cell_type": "code",
   "execution_count": null,
   "metadata": {},
   "outputs": [],
   "source": [
    "from mutperiodpy.helper_scripts.UsefulFileSystemFunctions import DataTypeStr\n",
    "from mutperiodpy.RunNucleosomeMutationAnalysis import runNucleosomeMutationAnalysis\n",
    "from benbiohelpers.FileSystemHandling.DirectoryHandling import getFilesInDirectory\n",
    "\n",
    "runNucleosomeMutationAnalysis(getFilesInDirectory(CTCF_NucMapDirectory, DataTypeStr.rawNucCounts + \".tsv\"),\n",
    "                              outputFilePath = os.path.join(CTCF_NucMapDirectory, \"Nucleosome-relative_CTCF_periodicity_data.tsv\"),\n",
    "                              overridePeakPeriodicityWithExpected = False, alignStrands = True)"
   ]
  },
  {
   "cell_type": "markdown",
   "metadata": {},
   "source": [
    "## Next, generate a sequence logo for CTCF binding sites\n",
    "Notably, this analysis can be run independent of the nucleosome analysis."
   ]
  },
  {
   "cell_type": "markdown",
   "metadata": {},
   "source": [
    "### Extend the CTCF binding sites by 10 nucleotides on either side"
   ]
  },
  {
   "cell_type": "code",
   "execution_count": null,
   "metadata": {},
   "outputs": [],
   "source": [
    "from benbiohelpers.FileSystemHandling.ExpandSequenceContext import expandSequenceContext\n",
    "expandedCTCF_FilePaths = expandSequenceContext(CTCF_BindingSitesFilePaths, hg19FastaFilePath, 10)"
   ]
  },
  {
   "cell_type": "markdown",
   "metadata": {},
   "source": [
    "### The relevant file is the fasta file in the intermediate_files directory. It should contain few enough sequences to make the logo at https://weblogo.berkeley.edu/logo.cgi"
   ]
  }
 ],
 "metadata": {
  "kernelspec": {
   "display_name": "Python 3",
   "language": "python",
   "name": "python3"
  },
  "language_info": {
   "codemirror_mode": {
    "name": "ipython",
    "version": 3
   },
   "file_extension": ".py",
   "mimetype": "text/x-python",
   "name": "python",
   "nbconvert_exporter": "python",
   "pygments_lexer": "ipython3",
   "version": "3.10.12"
  }
 },
 "nbformat": 4,
 "nbformat_minor": 2
}
