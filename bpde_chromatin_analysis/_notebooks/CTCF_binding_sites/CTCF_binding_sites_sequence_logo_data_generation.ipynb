{
 "cells": [
  {
   "cell_type": "markdown",
   "metadata": {},
   "source": [
    "## Set up pipeline with basic imports, data directories, and file basenames."
   ]
  },
  {
   "cell_type": "code",
   "execution_count": 1,
   "metadata": {},
   "outputs": [],
   "source": [
    "import os\n",
    "from benbiohelpers.DataPipelineManagement.GenomeManager import getGenomeFastaFilePath\n",
    "from bpde_chromatin_analysis.helper_scripts.BPDE_DataDir import getDataDir\n",
    "\n",
    "hg19FastaFilePath = getGenomeFastaFilePath(\"hg19\")\n",
    "\n",
    "CTCF_DataDirectory = os.path.join(getDataDir(), \"CTCF_binding_sites\")\n",
    "\n",
    "CTCF_BindingSitesFilePaths = [os.path.join(CTCF_DataDirectory, \"sequence_logo\", \"hg19_CTCF_known.bed\")]"
   ]
  },
  {
   "cell_type": "markdown",
   "metadata": {},
   "source": [
    "## Generate a sequence logo for CTCF binding sites"
   ]
  },
  {
   "cell_type": "markdown",
   "metadata": {},
   "source": [
    "### Extend the CTCF binding sites by 10 nucleotides on either side"
   ]
  },
  {
   "cell_type": "code",
   "execution_count": 2,
   "metadata": {},
   "outputs": [
    {
     "name": "stdout",
     "output_type": "stream",
     "text": [
      "\n",
      "Working in hg19_CTCF_known.bed\n",
      "Writing expanded indicies to intermediate bed file...\n",
      "Generating fasta file from expanded bed file...\n",
      "Using fasta file to write expanded context to new bed file...\n"
     ]
    }
   ],
   "source": [
    "from benbiohelpers.FileSystemHandling.ExpandSequenceContext import expandSequenceContext\n",
    "expandedCTCF_FilePaths = expandSequenceContext(CTCF_BindingSitesFilePaths, hg19FastaFilePath, 10)"
   ]
  },
  {
   "cell_type": "markdown",
   "metadata": {},
   "source": [
    "### The relevant file is the fasta file in the intermediate_files directory. It should contain few enough sequences to make the logo at https://weblogo.berkeley.edu/logo.cgi"
   ]
  }
 ],
 "metadata": {
  "kernelspec": {
   "display_name": "Python 3",
   "language": "python",
   "name": "python3"
  },
  "language_info": {
   "codemirror_mode": {
    "name": "ipython",
    "version": 3
   },
   "file_extension": ".py",
   "mimetype": "text/x-python",
   "name": "python",
   "nbconvert_exporter": "python",
   "pygments_lexer": "ipython3",
   "version": "3.10.12"
  }
 },
 "nbformat": 4,
 "nbformat_minor": 2
}
