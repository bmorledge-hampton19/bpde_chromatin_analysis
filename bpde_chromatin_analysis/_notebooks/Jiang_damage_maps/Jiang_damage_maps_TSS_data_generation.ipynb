{
 "cells": [
  {
   "cell_type": "markdown",
   "metadata": {},
   "source": [
    "### Set up pipeline with basic imports, data directories, and file basenames."
   ]
  },
  {
   "cell_type": "code",
   "execution_count": null,
   "metadata": {},
   "outputs": [],
   "source": [
    "import os\n",
    "from benbiohelpers.DataPipelineManagement.GenomeManager import getGenomeFastaFilePath\n",
    "from benbiohelpers.FileSystemHandling.DirectoryHandling import getFilesInDirectory\n",
    "from bpde_chromatin_analysis.helper_scripts.BPDE_DataDir import getDataDir\n",
    "from mutperiodpy.helper_scripts.UsefulFileSystemFunctions import getExternalDataDirectory as getMutperiodExternalDataDirectory, DataTypeStr\n",
    "\n",
    "hg19FastaFilePath = getGenomeFastaFilePath(\"hg19\")\n",
    "mutperiodHg19Directory = getMutperiodExternalDataDirectory()\n",
    "\n",
    "jiangDataDirectory = os.path.join(getDataDir(), \"Jiang_BPDE_damage_maps\")\n",
    "jiang2uM_CellularBasename = \"BEAS-2B_2uM_BPDE_cell_24h\"\n",
    "jiang2uM_NakedBasename = \"BEAS-2B_2uM_BPDE_nDNA_24h\"\n",
    "\n",
    "jiang2uM_CellularDamageMutperiodInputFilePaths = getFilesInDirectory(os.path.join(jiangDataDirectory, jiang2uM_CellularBasename), DataTypeStr.mutations + \".bed\")\n",
    "jiang2uM_NakedDamageMutperiodInputFilePath = getFilesInDirectory(os.path.join(jiangDataDirectory, jiang2uM_NakedBasename), DataTypeStr.mutations + \".bed\", searchRecursively = False)"
   ]
  },
  {
   "cell_type": "markdown",
   "metadata": {},
   "source": [
    "### Run the mutperiod pipeline to count damaged bases relative to transcription start sites."
   ]
  },
  {
   "cell_type": "code",
   "execution_count": null,
   "metadata": {},
   "outputs": [],
   "source": [
    "from mutperiodpy.RunAnalysisSuite import runAnalysisSuite, generateCustomBackground\n",
    "\n",
    "TSS_FilePaths = list()\n",
    "TSS_FilePaths.append(os.path.join(mutperiodHg19Directory, \"hg19_genic_regions_unnamed_TSSs\", \"hg19_genic_regions_unnamed_TSSs.bed\"))\n",
    "\n",
    "TSS_Names = [os.path.basename(TSS_FilePath).rsplit('.', 1)[0] for TSS_FilePath in TSS_FilePaths]\n",
    "\n",
    "generateCustomBackground(os.path.dirname(jiang2uM_NakedDamageMutperiodInputFilePath), TSS_Names,\n",
    "                         useSingleNucRadius = True, includeLinker = False, useNucGroupRadius = True, useNucStrand = True)\n",
    "\n",
    "runAnalysisSuite(jiang2uM_CellularDamageMutperiodInputFilePaths, TSS_Names,\n",
    "                 normalizationMethod = \"Custom Background\", customBackgroundDir = os.path.dirname(jiang2uM_NakedDamageMutperiodInputFilePath),\n",
    "                 useSingleNucRadius = True, includeLinker = False, useNucGroupRadius = True, useNucStrand = True)"
   ]
  }
 ],
 "metadata": {
  "kernelspec": {
   "display_name": "Python 3",
   "language": "python",
   "name": "python3"
  },
  "language_info": {
   "codemirror_mode": {
    "name": "ipython",
    "version": 3
   },
   "file_extension": ".py",
   "mimetype": "text/x-python",
   "name": "python",
   "nbconvert_exporter": "python",
   "pygments_lexer": "ipython3",
   "version": "3.10.12"
  }
 },
 "nbformat": 4,
 "nbformat_minor": 2
}
