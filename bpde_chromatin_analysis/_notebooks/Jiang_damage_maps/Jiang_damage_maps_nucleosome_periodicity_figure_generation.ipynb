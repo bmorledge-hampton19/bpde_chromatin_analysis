{
 "cells": [
  {
   "cell_type": "code",
   "execution_count": null,
   "metadata": {},
   "outputs": [],
   "source": [
    "import os\n",
    "from pandas import read_table\n",
    "from matplotlib import pyplot\n",
    "from benbiohelpers.FileSystemHandling.DirectoryHandling import getFilesInDirectory\n",
    "from bpde_chromatin_analysis.helper_scripts.BPDE_DataDir import getDataDir\n",
    "from mutperiodpy.helper_scripts.UsefulFileSystemFunctions import DataTypeStr, Metadata, getExternalDataDirectory as getMutperiodExternalDataDirectory\n",
    "from mutperiodpy.quick_scripts.GetNRL import getNRL\n",
    "from mutperiodpy.GeneratePlotnineFigures import parseAndPlotPeriodicity, parseNucleosomeCountsDataForPlotting, plotPeriodicity\n",
    "\n",
    "mutperiodHg19Directory = os.path.join(getMutperiodExternalDataDirectory(),\"hg19\")\n",
    "\n",
    "jiangDataDirectory = os.path.join(getDataDir(), \"Jiang_BPDE_damage_maps\")\n",
    "\n",
    "dataSets = [\"BEAS-2B_2uM_BPDE_cell_24h\"]"
   ]
  },
  {
   "cell_type": "code",
   "execution_count": null,
   "metadata": {},
   "outputs": [],
   "source": [
    "SINGLE_NUC = 1\n",
    "NUC_GROUP = 2\n",
    "\n",
    "jiangRawCounts = dict()\n",
    "jiangNormalizedCounts = dict()\n",
    "NRLs = dict()\n",
    "for dataSet in dataSets:\n",
    "    jiangRawCounts[dataSet] = {SINGLE_NUC:dict(), NUC_GROUP:dict()}\n",
    "    jiangNormalizedCounts[dataSet] = {SINGLE_NUC:dict(), NUC_GROUP:dict()}\n",
    "    for nucleosomeCountsFilePath in getFilesInDirectory(jiangDataDirectory, DataTypeStr.rawNucCounts+\".tsv\"):\n",
    "\n",
    "        if \"nuc-group\" in nucleosomeCountsFilePath: radius = NUC_GROUP\n",
    "        else: radius = SINGLE_NUC\n",
    "\n",
    "        countsMetadata = Metadata(nucleosomeCountsFilePath)\n",
    "\n",
    "        jiangRawCounts[dataSet][radius][countsMetadata.nucPosName] = read_table(nucleosomeCountsFilePath)\n",
    "\n",
    "        if countsMetadata.nucPosName not in NRLs: NRLs[countsMetadata.nucPosName] = getNRL([countsMetadata.baseNucPosFilePath])[0]\n",
    "    for nucleosomeCountsFilePath in getFilesInDirectory(jiangDataDirectory, DataTypeStr.normNucCounts+\".tsv\"):\n",
    "\n",
    "        if \"nuc-group\" in nucleosomeCountsFilePath: radius = NUC_GROUP\n",
    "        else: radius = SINGLE_NUC\n",
    "\n",
    "        countsMetadata = Metadata(nucleosomeCountsFilePath)\n",
    "\n",
    "        jiangNormalizedCounts[dataSet][radius][countsMetadata.nucPosName] = read_table(nucleosomeCountsFilePath)\n",
    "\n",
    "        if countsMetadata.nucPosName not in NRLs: NRLs[countsMetadata.nucPosName] = getNRL([countsMetadata.baseNucPosFilePath])[0]"
   ]
  },
  {
   "cell_type": "code",
   "execution_count": null,
   "metadata": {},
   "outputs": [],
   "source": [
    "for dataSet in dataSets:\n",
    "    for radius in jiangRawCounts[dataSet]:\n",
    "        for nucleosomeMapName in jiangRawCounts[dataSet][radius]:\n",
    "            plot = parseAndPlotPeriodicity(jiangRawCounts[dataSet][radius][nucleosomeMapName], dataCol = \"Aligned_Strands_Counts\",\n",
    "                                           smoothTranslational = True, nucRepLen = NRLs[nucleosomeMapName],\n",
    "                                           title = f\"Jiang {dataSet} {nucleosomeMapName} Raw Counts\", yAxisLabel = \"Damage Reads\")\n",
    "            print(plot)"
   ]
  },
  {
   "cell_type": "code",
   "execution_count": null,
   "metadata": {},
   "outputs": [],
   "source": [
    "for dataSet in dataSets:\n",
    "    for radius in jiangNormalizedCounts[dataSet]:\n",
    "        for nucleosomeMapName in jiangNormalizedCounts[dataSet][radius]:\n",
    "            plot = parseAndPlotPeriodicity(jiangNormalizedCounts[dataSet][radius][nucleosomeMapName], dataCol = \"Normalized_Aligned_Strands\",\n",
    "                                           smoothTranslational = True, nucRepLen = NRLs[nucleosomeMapName],\n",
    "                                           title = f\"Jiang {dataSet} {nucleosomeMapName} Naked Normalized\", yAxisLabel = \"Cellular/Naked Damage Reads\")\n",
    "            print(plot)"
   ]
  }
 ],
 "metadata": {
  "kernelspec": {
   "display_name": "Python 3",
   "language": "python",
   "name": "python3"
  },
  "language_info": {
   "codemirror_mode": {
    "name": "ipython",
    "version": 3
   },
   "file_extension": ".py",
   "mimetype": "text/x-python",
   "name": "python",
   "nbconvert_exporter": "python",
   "pygments_lexer": "ipython3",
   "version": "3.10.12"
  }
 },
 "nbformat": 4,
 "nbformat_minor": 2
}
