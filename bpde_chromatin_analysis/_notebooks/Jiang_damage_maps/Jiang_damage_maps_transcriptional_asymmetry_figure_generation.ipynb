{
 "cells": [
  {
   "cell_type": "markdown",
   "metadata": {},
   "source": [
    "### Parse the gene bins file to a pandas data frame"
   ]
  },
  {
   "cell_type": "code",
   "execution_count": null,
   "metadata": {},
   "outputs": [],
   "source": [
    "import os\n",
    "from bpde_chromatin_analysis.helper_scripts.BPDE_DataDir import getDataDir\n",
    "from chromatinfeaturesanalysis.BinInGenes import parseGeneBinData, plotGeneBins\n",
    "\n",
    "jiangDataDirectory = os.path.join(getDataDir(), \"Jiang_BPDE_damage_maps\")\n",
    "jiangCellularDamageGeneBinDataFilePath = os.path.join(jiangDataDirectory, \"BEAS-2B_2uM_BPDE_cell_24h\",\n",
    "                                                      \"BEAS-2B_2uM_BPDE_cell_24h_singlenuc_context_mutations_gene_bins_TS_vs_NTS.tsv\")\n",
    "jiangNakedDamageGeneBinDataFilePath = os.path.join(jiangDataDirectory, \"BEAS-2B_2uM_BPDE_nDNA_24h\",\n",
    "                                                   \"BEAS-2B_2uM_BPDE_nDNA_24h_singlenuc_context_mutations_gene_bins_TS_vs_NTS.tsv\")\n",
    "jiangGeneBinData = parseGeneBinData(jiangCellularDamageGeneBinDataFilePath, jiangNakedDamageGeneBinDataFilePath)"
   ]
  },
  {
   "cell_type": "markdown",
   "metadata": {},
   "source": [
    "### Graph the TS vs. NTS"
   ]
  },
  {
   "cell_type": "code",
   "execution_count": null,
   "metadata": {},
   "outputs": [],
   "source": [
    "print(\n",
    "    plotGeneBins(jiangGeneBinData, \"Jiang Transcriptional Asymmetry\", yAxisLabel = \"BPDE Damage Log Ratio (Cellular/Naked)\",\n",
    "                 yData1 = \"Coding_Strand_Counts\", yData2 = \"Noncoding_Strand_Counts\", plotYData3Only = False,\n",
    "                 flankingBinSize = 10886, flankingBinNum = 3)\n",
    ")"
   ]
  },
  {
   "cell_type": "code",
   "execution_count": null,
   "metadata": {},
   "outputs": [],
   "source": [
    "print(\n",
    "    plotGeneBins(jiangGeneBinData, \"Jiang Transcriptional Asymmetry\", yAxisLabel = \"BPDE Damage Log Ratio (Cellular/Naked)\", plotYData3Only = False, ylim = (-1,1),\n",
    "                 flankingBinSize = 10886, flankingBinNum = 3)\n",
    ")"
   ]
  },
  {
   "cell_type": "markdown",
   "metadata": {},
   "source": [
    "### Graph the log ratio of TS vs. NTS"
   ]
  },
  {
   "cell_type": "code",
   "execution_count": null,
   "metadata": {},
   "outputs": [],
   "source": [
    "print(\n",
    "    plotGeneBins(jiangGeneBinData, \"Jiang Transcriptional Asymmetry\", yAxisLabel = \"BPDE Damage Log Ratio (TS/NTS; Cellular/Naked)\", ylim = (-1,1),\n",
    "                 flankingBinSize = 10886, flankingBinNum = 3)\n",
    ")"
   ]
  }
 ],
 "metadata": {
  "kernelspec": {
   "display_name": "Python 3",
   "language": "python",
   "name": "python3"
  },
  "language_info": {
   "codemirror_mode": {
    "name": "ipython",
    "version": 3
   },
   "file_extension": ".py",
   "mimetype": "text/x-python",
   "name": "python",
   "nbconvert_exporter": "python",
   "pygments_lexer": "ipython3",
   "version": "3.10.12"
  }
 },
 "nbformat": 4,
 "nbformat_minor": 2
}
