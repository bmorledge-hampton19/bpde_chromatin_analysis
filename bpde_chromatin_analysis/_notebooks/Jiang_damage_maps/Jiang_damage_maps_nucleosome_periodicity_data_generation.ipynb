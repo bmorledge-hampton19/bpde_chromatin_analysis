{
 "cells": [
  {
   "cell_type": "markdown",
   "metadata": {},
   "source": [
    "### Set up pipeline with basic imports, data directories, and file basenames."
   ]
  },
  {
   "cell_type": "code",
   "execution_count": null,
   "metadata": {},
   "outputs": [],
   "source": [
    "import os\n",
    "from benbiohelpers.DataPipelineManagement.GenomeManager import getGenomeFastaFilePath\n",
    "from bpde_chromatin_analysis.helper_scripts.BPDE_DataDir import getDataDir\n",
    "from mutperiodpy.helper_scripts.UsefulFileSystemFunctions import getExternalDataDirectory as getMutperiodExternalDataDirectory\n",
    "\n",
    "hg19FastaFilePath = getGenomeFastaFilePath(\"hg19\")\n",
    "mutperiodHg19Directory = getMutperiodExternalDataDirectory()\n",
    "\n",
    "jiangDataDirectory = os.path.join(getDataDir(), \"Jiang_BPDE_damage_maps\")\n",
    "jiang2uM_CellularBasename = \"BEAS-2B_2uM_BPDE_cell_24h\"\n",
    "jiang2uM_NakedBasename = \"BEAS-2B_2uM_BPDE_nDNA_24h\""
   ]
  },
  {
   "cell_type": "markdown",
   "metadata": {},
   "source": [
    "### Format the reads\n",
    "Format the reads by combining paired-end reads, removing lone \"2nd pair\" reads, removing duplicates, and combining replicates."
   ]
  },
  {
   "cell_type": "code",
   "execution_count": null,
   "metadata": {},
   "outputs": [],
   "source": [
    "from bpde_chromatin_analysis.FormatAlignedDamageReads import formatAlignedDamageReads\n",
    "\n",
    "jiang2uM_CellularReadsFilePaths = list()\n",
    "jiang2uM_NakedReadsFilePaths = list()\n",
    "\n",
    "for rep in (\"_rep1\",\"_rep2\",\"_rep3\"):\n",
    "    jiang2uM_CellularReadsFilePaths.append(os.path.join(jiangDataDirectory, jiang2uM_CellularBasename, jiang2uM_CellularBasename+rep+\".bed\"))\n",
    "    jiang2uM_NakedReadsFilePaths.append(os.path.join(jiangDataDirectory, jiang2uM_NakedBasename, jiang2uM_NakedBasename+rep+\".bed\"))\n",
    "\n",
    "formattedJiang2uM_CellularReadsFilePaths = formatAlignedDamageReads(jiang2uM_CellularReadsFilePaths)\n",
    "formattedJiang2uM_NakedReadsFilePaths = formatAlignedDamageReads(jiang2uM_NakedReadsFilePaths)"
   ]
  },
  {
   "cell_type": "markdown",
   "metadata": {},
   "source": [
    "### Convert the BPDE damage-seq reads to single-nucleotide lesion positions."
   ]
  },
  {
   "cell_type": "code",
   "execution_count": null,
   "metadata": {},
   "outputs": [],
   "source": [
    "from bpde_chromatin_analysis.GetBDPE_DamagePositionsFromAlignedReads import getBPDE_DamagePositionsFromAlignedReads\n",
    "\n",
    "jiang2uM_CellularDamagePosFilePaths = getBPDE_DamagePositionsFromAlignedReads(formattedJiang2uM_CellularReadsFilePaths, hg19FastaFilePath)\n",
    "jiang2uM_NakedDamagePosFilePaths = getBPDE_DamagePositionsFromAlignedReads(formattedJiang2uM_NakedReadsFilePaths, hg19FastaFilePath)"
   ]
  },
  {
   "cell_type": "markdown",
   "metadata": {},
   "source": [
    "### Split damage positions into guanine and non-guanine positions."
   ]
  },
  {
   "cell_type": "code",
   "execution_count": null,
   "metadata": {},
   "outputs": [],
   "source": [
    "from bpde_chromatin_analysis.SplitGuaninePositions import splitGuaninePositions\n",
    "\n",
    "jiang2uM_CellularDamagePosFilePaths = splitGuaninePositions(jiang2uM_CellularDamagePosFilePaths)\n",
    "jiang2uM_NakedDamagePosFilePaths = splitGuaninePositions(jiang2uM_NakedDamagePosFilePaths)"
   ]
  },
  {
   "cell_type": "markdown",
   "metadata": {},
   "source": [
    "### Parse the damage position data for mutperiod input"
   ]
  },
  {
   "cell_type": "code",
   "execution_count": null,
   "metadata": {},
   "outputs": [],
   "source": [
    "from mutperiodpy.input_parsing.ParseStandardBed import parseStandardBed\n",
    "\n",
    "jiang2uM_CellularDamageMutperiodInputFilePaths = parseStandardBed(jiang2uM_CellularDamagePosFilePaths, hg19FastaFilePath)\n",
    "jiang2uM_NakedDamageMutperiodInputFilePath = parseStandardBed(jiang2uM_NakedDamagePosFilePaths, hg19FastaFilePath)[0]"
   ]
  },
  {
   "cell_type": "markdown",
   "metadata": {},
   "source": [
    "### Run the mutperiod pipeline to determine translational and rotational periodicity of the data."
   ]
  },
  {
   "cell_type": "code",
   "execution_count": null,
   "metadata": {},
   "outputs": [],
   "source": [
    "from mutperiodpy.RunAnalysisSuite import runAnalysisSuite, generateCustomBackground\n",
    "\n",
    "nucleosomeMapFilePaths = list()\n",
    "# nucleosomeMapFilePaths.append(os.path.join(mutperiodHg19Directory, \"hg19_hybrid_nucleosome_map\", \"hg19_hybrid_nucleosome_map.bed\"))\n",
    "# nucleosomeMapFilePaths.append(os.path.join(mutperiodHg19Directory, \"hg19_LCL_MNase_nuc_map_all_mappable\", \"hg19_LCL_MNase_nuc_map_all_mappable.bed\"))\n",
    "# nucleosomeMapFilePaths.append(os.path.join(mutperiodHg19Directory, \"hg19_LCL_MNase_nuc_map_all_mappable_euchromatin\",\n",
    "#                                            \"hg19_LCL_MNase_nuc_map_all_mappable_euchromatin.bed\"))\n",
    "# nucleosomeMapFilePaths.append(os.path.join(mutperiodHg19Directory, \"hg19_LCL_MNase_nuc_map_all_mappable_heterochromatin\",\n",
    "#                                            \"hg19_LCL_MNase_nuc_map_all_mappable_heterochromatin.bed\"))\n",
    "# nucleosomeMapFilePaths.append(os.path.join(mutperiodHg19Directory, \"hg19_LCL_MNase_nuc_map_all_mappable_stringent_euchromatin\",\n",
    "#                                            \"hg19_LCL_MNase_nuc_map_all_mappable_stringent_euchromatin.bed\"))\n",
    "# nucleosomeMapFilePaths.append(os.path.join(mutperiodHg19Directory, \"hg19_NHF1_MNase_nuc_map_mappable\", \"hg19_NHF1_MNase_nuc_map_all_mappable.bed\"))\n",
    "nucleosomeMapFilePaths.append(os.path.join(mutperiodHg19Directory, \"hg19_CTCF_known_all\", \"hg19_CTCF_known_all.bed\"))\n",
    "\n",
    "nucleosomeMapNames = [os.path.basename(nucleosomeMapFilePath).rsplit('.', 1)[0] for nucleosomeMapFilePath in nucleosomeMapFilePaths]\n",
    "\n",
    "generateCustomBackground(os.path.dirname(jiang2uM_NakedDamageMutperiodInputFilePath), nucleosomeMapNames,\n",
    "                         useSingleNucRadius = True, includeLinker = False, useNucGroupRadius = True)\n",
    "\n",
    "runAnalysisSuite(jiang2uM_CellularDamageMutperiodInputFilePaths, nucleosomeMapNames,\n",
    "                 normalizationMethod = \"Custom Background\", customBackgroundDir = os.path.dirname(jiang2uM_NakedDamageMutperiodInputFilePath),\n",
    "                 useSingleNucRadius = True, includeLinker = False, useNucGroupRadius = True)"
   ]
  },
  {
   "cell_type": "code",
   "execution_count": null,
   "metadata": {},
   "outputs": [],
   "source": [
    "from mutperiodpy.helper_scripts.UsefulFileSystemFunctions import DataTypeStr\n",
    "from mutperiodpy.RunNucleosomeMutationAnalysis import runNucleosomeMutationAnalysis\n",
    "from benbiohelpers.FileSystemHandling.DirectoryHandling import getFilesInDirectory\n",
    "\n",
    "runNucleosomeMutationAnalysis(getFilesInDirectory(os.path.join(jiangDataDirectory, jiang2uM_CellularBasename), DataTypeStr.normNucCounts + \".tsv\"),\n",
    "                              outputFilePath = os.path.join(jiangDataDirectory, \"BEAS-2B_2uM_BPDE_naked_normalized_periodicity_data.tsv\"),\n",
    "                              overridePeakPeriodicityWithExpected = False, alignStrands = True)"
   ]
  }
 ],
 "metadata": {
  "kernelspec": {
   "display_name": "Python 3",
   "language": "python",
   "name": "python3"
  },
  "language_info": {
   "codemirror_mode": {
    "name": "ipython",
    "version": 3
   },
   "file_extension": ".py",
   "mimetype": "text/x-python",
   "name": "python",
   "nbconvert_exporter": "python",
   "pygments_lexer": "ipython3",
   "version": "3.10.12"
  }
 },
 "nbformat": 4,
 "nbformat_minor": 2
}
