{
 "cells": [
  {
   "cell_type": "markdown",
   "metadata": {},
   "source": [
    "### Set up pipeline with basic imports, data directories, and file basenames.\n",
    "\n",
    "Make sure that the Jiang_damage_maps_preprocessing notebook has been run prior to this notebook."
   ]
  },
  {
   "cell_type": "code",
   "execution_count": null,
   "metadata": {},
   "outputs": [],
   "source": [
    "import os\n",
    "from benbiohelpers.DataPipelineManagement.GenomeManager import getGenomeFastaFilePath\n",
    "from benbiohelpers.FileSystemHandling.DirectoryHandling import getFilesInDirectory\n",
    "from bpde_chromatin_analysis.helper_scripts.BPDE_DataDir import getDataDir\n",
    "from mutperiodpy.helper_scripts.UsefulFileSystemFunctions import getExternalDataDirectory as getMutperiodExternalDataDirectory, DataTypeStr\n",
    "\n",
    "hg19FastaFilePath = getGenomeFastaFilePath(\"hg19\")\n",
    "mutperiodHg19Directory = getMutperiodExternalDataDirectory()\n",
    "\n",
    "jiangDataDirectory = os.path.join(getDataDir(), \"Jiang_BPDE_damage_maps\")\n",
    "jiang2uM_CellularBasename = \"BEAS-2B_2uM_BPDE_cell_24h\"\n",
    "jiang2uM_NakedBasename = \"BEAS-2B_2uM_BPDE_nDNA_24h\"\n",
    "\n",
    "jiang2uM_CellularDamageMutperiodInputFilePaths = getFilesInDirectory(os.path.join(jiangDataDirectory, jiang2uM_CellularBasename), DataTypeStr.mutations + \".bed\")\n",
    "jiang2uM_NakedDamageMutperiodInputFilePath = getFilesInDirectory(os.path.join(jiangDataDirectory, jiang2uM_NakedBasename), DataTypeStr.mutations + \".bed\", searchRecursively = False)"
   ]
  },
  {
   "cell_type": "markdown",
   "metadata": {},
   "source": [
    "### Run the mutperiod pipeline to determine translational and rotational periodicity of the data."
   ]
  },
  {
   "cell_type": "code",
   "execution_count": null,
   "metadata": {},
   "outputs": [],
   "source": [
    "from mutperiodpy.RunAnalysisSuite import runAnalysisSuite, generateCustomBackground\n",
    "\n",
    "nucleosomeMapFilePaths = list()\n",
    "nucleosomeMapFilePaths.append(os.path.join(mutperiodHg19Directory, \"hg19_hybrid_nuc_map\", \"hg19_hybrid_nuc_map.bed\"))\n",
    "nucleosomeMapFilePaths.append(os.path.join(mutperiodHg19Directory, \"hg19_LCL_MNase_nuc_map\", \"hg19_LCL_MNase_nuc_map.bed\"))\n",
    "# nucleosomeMapFilePaths.append(os.path.join(mutperiodHg19Directory, \"hg19_LCL_MNase_nuc_map_euchromatin\",\n",
    "#                                            \"hg19_LCL_MNase_nuc_map_euchromatin.bed\"))\n",
    "# nucleosomeMapFilePaths.append(os.path.join(mutperiodHg19Directory, \"hg19_LCL_MNase_nuc_map_heterochromatin\",\n",
    "#                                            \"hg19_LCL_MNase_nuc_map_heterochromatin.bed\"))\n",
    "# nucleosomeMapFilePaths.append(os.path.join(mutperiodHg19Directory, \"hg19_LCL_MNase_nuc_map_stringent_euchromatin\",\n",
    "#                                            \"hg19_LCL_MNase_nuc_map_stringent_euchromatin.bed\"))\n",
    "nucleosomeMapFilePaths.append(os.path.join(mutperiodHg19Directory, \"hg19_NHF1_MNase_nuc_map\", \"hg19_NHF1_MNase_nuc_map.bed\"))\n",
    "\n",
    "nucleosomeMapNames = [os.path.basename(nucleosomeMapFilePath).rsplit('.', 1)[0] for nucleosomeMapFilePath in nucleosomeMapFilePaths]\n",
    "\n",
    "generateCustomBackground(os.path.dirname(jiang2uM_NakedDamageMutperiodInputFilePath), nucleosomeMapNames,\n",
    "                         useSingleNucRadius = True, includeLinker = False, useNucGroupRadius = True)\n",
    "\n",
    "runAnalysisSuite(jiang2uM_CellularDamageMutperiodInputFilePaths, nucleosomeMapNames,\n",
    "                 normalizationMethod = \"Custom Background\", customBackgroundDir = os.path.dirname(jiang2uM_NakedDamageMutperiodInputFilePath),\n",
    "                 useSingleNucRadius = True, includeLinker = False, useNucGroupRadius = True)"
   ]
  },
  {
   "cell_type": "code",
   "execution_count": null,
   "metadata": {},
   "outputs": [],
   "source": [
    "from mutperiodpy.RunNucleosomeMutationAnalysis import runNucleosomeMutationAnalysis\n",
    "\n",
    "normalizedNucleosomeCountsFilePaths = list()\n",
    "for nucleosomeMapName in nucleosomeMapNames:\n",
    "    normalizedNucleosomeCountsFilePaths += getFilesInDirectory(os.path.join(jiangDataDirectory, jiang2uM_CellularBasename, nucleosomeMapName), DataTypeStr.normNucCounts + \".tsv\")\n",
    "\n",
    "runNucleosomeMutationAnalysis(normalizedNucleosomeCountsFilePaths,\n",
    "                              outputFilePath = os.path.join(jiangDataDirectory, \"BEAS-2B_2uM_BPDE_naked_normalized_periodicity_data.tsv\"),\n",
    "                              overridePeakPeriodicityWithExpected = False, alignStrands = True)"
   ]
  }
 ],
 "metadata": {
  "kernelspec": {
   "display_name": "Python 3",
   "language": "python",
   "name": "python3"
  },
  "language_info": {
   "codemirror_mode": {
    "name": "ipython",
    "version": 3
   },
   "file_extension": ".py",
   "mimetype": "text/x-python",
   "name": "python",
   "nbconvert_exporter": "python",
   "pygments_lexer": "ipython3",
   "version": "3.10.12"
  }
 },
 "nbformat": 4,
 "nbformat_minor": 2
}
