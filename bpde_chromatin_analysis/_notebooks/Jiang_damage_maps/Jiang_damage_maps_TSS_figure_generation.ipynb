{
 "cells": [
  {
   "cell_type": "code",
   "execution_count": null,
   "metadata": {},
   "outputs": [],
   "source": [
    "import os\n",
    "from pandas import read_table\n",
    "from benbiohelpers.FileSystemHandling.DirectoryHandling import getFilesInDirectory\n",
    "from bpde_chromatin_analysis.helper_scripts.BPDE_DataDir import getDataDir\n",
    "from mutperiodpy.helper_scripts.UsefulFileSystemFunctions import DataTypeStr, Metadata\n",
    "from mutperiodpy.GeneratePlotnineFigures import parseAndPlotPeriodicity\n",
    "\n",
    "jiangDataDirectory = os.path.join(getDataDir(), \"Jiang_BPDE_damage_maps\")\n",
    "\n",
    "dataSets = [\"BEAS-2B_2uM_BPDE_cell_24h\"]"
   ]
  },
  {
   "cell_type": "code",
   "execution_count": null,
   "metadata": {},
   "outputs": [],
   "source": [
    "SINGLE_NUC = 1\n",
    "NUC_GROUP = 2\n",
    "\n",
    "jiangRawCounts = dict()\n",
    "jiangNakedNormalizedCounts = dict()\n",
    "jiangTrinucNormalizedCounts = dict()\n",
    "\n",
    "TSS_Names = [\"hg19_protein_coding_genes_TSSs\"]\n",
    "\n",
    "for dataSet in dataSets:\n",
    "\n",
    "    jiangRawCounts[dataSet] = {SINGLE_NUC:dict(), NUC_GROUP:dict()}\n",
    "    jiangNakedNormalizedCounts[dataSet] = {SINGLE_NUC:dict(), NUC_GROUP:dict()}\n",
    "    jiangTrinucNormalizedCounts[dataSet] = {SINGLE_NUC:dict(), NUC_GROUP:dict()}\n",
    "\n",
    "    for nucleosomeCountsFilePath in getFilesInDirectory(jiangDataDirectory, DataTypeStr.rawNucCounts+\".tsv\"):\n",
    "\n",
    "        countsMetadata = Metadata(nucleosomeCountsFilePath)\n",
    "        if countsMetadata.nucPosName not in TSS_Names: continue\n",
    "\n",
    "        if \"nuc-group\" in nucleosomeCountsFilePath: radius = NUC_GROUP\n",
    "        else: radius = SINGLE_NUC\n",
    "\n",
    "        jiangRawCounts[dataSet][radius][countsMetadata.nucPosName] = read_table(nucleosomeCountsFilePath)\n",
    "\n",
    "    for nucleosomeCountsFilePath in getFilesInDirectory(jiangDataDirectory, DataTypeStr.normNucCounts+\".tsv\"):\n",
    "\n",
    "        countsMetadata = Metadata(nucleosomeCountsFilePath)\n",
    "        if countsMetadata.nucPosName not in TSS_Names: continue\n",
    "\n",
    "        if \"nuc-group\" in nucleosomeCountsFilePath: radius = NUC_GROUP\n",
    "        else: radius = SINGLE_NUC\n",
    "\n",
    "        if \"custom_context\" in os.path.basename(nucleosomeCountsFilePath):\n",
    "            jiangNakedNormalizedCounts[dataSet][radius][countsMetadata.nucPosName] = read_table(nucleosomeCountsFilePath)\n",
    "        elif \"trinuc\" in os.path.basename(nucleosomeCountsFilePath):\n",
    "            jiangTrinucNormalizedCounts[dataSet][radius][countsMetadata.nucPosName] = read_table(nucleosomeCountsFilePath)"
   ]
  },
  {
   "cell_type": "code",
   "execution_count": null,
   "metadata": {},
   "outputs": [],
   "source": [
    "for dataSet in dataSets:\n",
    "    for radius in jiangRawCounts[dataSet]:\n",
    "        for TSS_Name in jiangRawCounts[dataSet][radius]:\n",
    "            plot = parseAndPlotPeriodicity(jiangRawCounts[dataSet][radius][TSS_Name], dataCol = \"Both_Strands_Counts\",\n",
    "                                           smoothTranslational = False, nucRepLen = 2000,\n",
    "                                           title = f\"Jiang {dataSet} {TSS_Name} Raw Counts\", yAxisLabel = \"Damage Reads\")\n",
    "            print(plot)"
   ]
  },
  {
   "cell_type": "code",
   "execution_count": null,
   "metadata": {},
   "outputs": [],
   "source": [
    "for dataSet in dataSets:\n",
    "    for radius in jiangNakedNormalizedCounts[dataSet]:\n",
    "        for TSS_Name in jiangNakedNormalizedCounts[dataSet][radius]:\n",
    "            plot = parseAndPlotPeriodicity(jiangNakedNormalizedCounts[dataSet][radius][TSS_Name], dataCol = \"Normalized_Both_Strands\",\n",
    "                                           smoothTranslational = False, nucRepLen = 2000,\n",
    "                                           title = f\"Jiang {dataSet} {TSS_Name} Naked Normalized\", yAxisLabel = \"Cellular/Naked Damage Reads\")\n",
    "            print(plot)"
   ]
  },
  {
   "cell_type": "code",
   "execution_count": null,
   "metadata": {},
   "outputs": [],
   "source": [
    "for dataSet in dataSets:\n",
    "    for radius in jiangTrinucNormalizedCounts[dataSet]:\n",
    "        for TSS_Name in jiangTrinucNormalizedCounts[dataSet][radius]:\n",
    "            plot = parseAndPlotPeriodicity(jiangTrinucNormalizedCounts[dataSet][radius][TSS_Name], dataCol = \"Normalized_Both_Strands\",\n",
    "                                           smoothTranslational = False, nucRepLen = 2000,\n",
    "                                           title = f\"Jiang {dataSet} {TSS_Name} Trinuc Normalized\", yAxisLabel = \"Trinuc Normalized Damage\")\n",
    "            print(plot)"
   ]
  }
 ],
 "metadata": {
  "kernelspec": {
   "display_name": "Python 3",
   "language": "python",
   "name": "python3"
  },
  "language_info": {
   "codemirror_mode": {
    "name": "ipython",
    "version": 3
   },
   "file_extension": ".py",
   "mimetype": "text/x-python",
   "name": "python",
   "nbconvert_exporter": "python",
   "pygments_lexer": "ipython3",
   "version": "3.10.12"
  }
 },
 "nbformat": 4,
 "nbformat_minor": 2
}
