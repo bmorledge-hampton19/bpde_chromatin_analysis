{
 "cells": [
  {
   "cell_type": "markdown",
   "metadata": {},
   "source": [
    "### Set up pipeline with basic imports, data directories, and file paths."
   ]
  },
  {
   "cell_type": "code",
   "execution_count": null,
   "metadata": {},
   "outputs": [],
   "source": [
    "import os\n",
    "from benbiohelpers.DataPipelineManagement.GenomeManager import getGenomeFastaFilePath\n",
    "from bpde_chromatin_analysis.helper_scripts.BPDE_DataDir import getDataDir\n",
    "from mutperiodpy.helper_scripts.UsefulFileSystemFunctions import getExternalDataDirectory as getMutperiodExternalDataDirectory, DataTypeStr\n",
    "from benbiohelpers.FileSystemHandling.DirectoryHandling import getFilesInDirectory\n",
    "\n",
    "hg19FastaFilePath = getGenomeFastaFilePath(\"hg19\")\n",
    "hg19GeneDesignationsFilePath = os.path.join(getMutperiodExternalDataDirectory(), \"hg19\", \"hg19_genic_regions_unnamed\",\n",
    "                                            \"hg19_genic_regions_unnamed_33093_bp_extended_ENCODE_blacklist_filtered.bed\")\n",
    "\n",
    "alexandrovDataDirectory = os.path.join(getDataDir(), \"Alexandrov_LUAD\")\n",
    "alexandrovMutationsFilePath = getFilesInDirectory(alexandrovDataDirectory, DataTypeStr.mutations+\".bed\", searchRecursively=False)"
   ]
  },
  {
   "cell_type": "markdown",
   "metadata": {},
   "source": [
    "### Count mutations on the TS vs. NTS across 6 fractional bins + 3 flanking regions on either side."
   ]
  },
  {
   "cell_type": "code",
   "execution_count": null,
   "metadata": {},
   "outputs": [],
   "source": [
    "from chromatinfeaturesanalysis.BinInGenes import binInGenes\n",
    "\n",
    "binInGenes([alexandrovMutationsFilePath], hg19GeneDesignationsFilePath, filePathSuffix = \"TS_vs_NTS\", flankingBinNum = 3, flankingBinSize = 11031)"
   ]
  }
 ],
 "metadata": {
  "kernelspec": {
   "display_name": "Python 3",
   "language": "python",
   "name": "python3"
  },
  "language_info": {
   "codemirror_mode": {
    "name": "ipython",
    "version": 3
   },
   "file_extension": ".py",
   "mimetype": "text/x-python",
   "name": "python",
   "nbconvert_exporter": "python",
   "pygments_lexer": "ipython3",
   "version": "3.10.12"
  }
 },
 "nbformat": 4,
 "nbformat_minor": 2
}
