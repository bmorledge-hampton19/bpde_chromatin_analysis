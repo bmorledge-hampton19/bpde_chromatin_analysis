{
 "cells": [
  {
   "cell_type": "markdown",
   "metadata": {},
   "source": [
    "### Set up pipeline with basic imports, data directories, and file basenames."
   ]
  },
  {
   "cell_type": "code",
   "execution_count": null,
   "metadata": {},
   "outputs": [],
   "source": [
    "import os\n",
    "from benbiohelpers.DataPipelineManagement.GenomeManager import getGenomeFastaFilePath\n",
    "from bpde_chromatin_analysis.helper_scripts.BPDE_DataDir import getDataDir\n",
    "from mutperiodpy.helper_scripts.UsefulFileSystemFunctions import getExternalDataDirectory as getMutperiodExternalDataDirectory\n",
    "\n",
    "hg19FastaFilePath = getGenomeFastaFilePath(\"hg19\")\n",
    "mutperiodHg19Directory = getMutperiodExternalDataDirectory()\n",
    "\n",
    "alexandrovDataDirectory = os.path.join(getDataDir(), \"Alexandrov_LUAD\")\n",
    "alexandrovBaseDataFilePath = os.path.join(alexandrovDataDirectory, \"Lung_Adeno_clean_somatic_mutations_for_signature_analysis.txt\")"
   ]
  },
  {
   "cell_type": "markdown",
   "metadata": {},
   "source": [
    "### Parse the mutation data for mutperiod input"
   ]
  },
  {
   "cell_type": "code",
   "execution_count": null,
   "metadata": {},
   "outputs": [],
   "source": [
    "from mutperiodpy.input_parsing.ParseAlexandrov import parseAlexandrov\n",
    "from mutperiodpy.helper_scripts.UsefulFileSystemFunctions import DataTypeStr\n",
    "from benbiohelpers.FileSystemHandling.DirectoryHandling import getFilesInDirectory\n",
    "\n",
    "if getFilesInDirectory(alexandrovDataDirectory, DataTypeStr.mutations + \".bed\", searchRecursively = False) is None:\n",
    "    print(\"Parsed data not found. Generating...\")\n",
    "    alexandrovMutperiodInputFilePaths = parseAlexandrov([alexandrovBaseDataFilePath], hg19FastaFilePath)\n",
    "else:\n",
    "    alexandrovMutperiodInputFilePaths = [getFilesInDirectory(alexandrovDataDirectory, DataTypeStr.mutations + \".bed\", searchRecursively = False)]\n",
    "    print(f\"Found parsed data at {alexandrovMutperiodInputFilePaths[0]}. Continuing.\")"
   ]
  },
  {
   "cell_type": "markdown",
   "metadata": {},
   "source": [
    "### Run the mutperiod pipeline to count mutations relative to transcription factor binding sites."
   ]
  },
  {
   "cell_type": "code",
   "execution_count": null,
   "metadata": {},
   "outputs": [],
   "source": [
    "from mutperiodpy.RunAnalysisSuite import runAnalysisSuite\n",
    "\n",
    "TFBS_FilePaths = list()\n",
    "TFBS_FilePaths.append(os.path.join(mutperiodHg19Directory, \"hg19_CTCF_known\", \"hg19_CTCF_known.bed\"))\n",
    "TFBS_FilePaths.append(os.path.join(mutperiodHg19Directory, \"hg19_ETS_and_GABPA_known\", \"hg19_ETS_and_GABPA_known.bed\"))\n",
    "TFBS_FilePaths.append(os.path.join(mutperiodHg19Directory, \"hg19_SP1_known\", \"hg19_SP1_known.bed\"))\n",
    "\n",
    "TFBS_Names = [os.path.basename(TFBS_FilePath).rsplit('.', 1)[0] for TFBS_FilePath in TFBS_FilePaths]\n",
    "\n",
    "runAnalysisSuite(alexandrovMutperiodInputFilePaths, TFBS_Names, normalizationMethod = \"Trinuc/Quadrunuc\", customBackgroundDir = None,\n",
    "                 useSingleNucRadius = True, includeLinker = False, useNucGroupRadius = True, useNucStrand = True)"
   ]
  }
 ],
 "metadata": {
  "kernelspec": {
   "display_name": "Python 3",
   "language": "python",
   "name": "python3"
  },
  "language_info": {
   "codemirror_mode": {
    "name": "ipython",
    "version": 3
   },
   "file_extension": ".py",
   "mimetype": "text/x-python",
   "name": "python",
   "nbconvert_exporter": "python",
   "pygments_lexer": "ipython3",
   "version": "3.10.12"
  }
 },
 "nbformat": 4,
 "nbformat_minor": 2
}
