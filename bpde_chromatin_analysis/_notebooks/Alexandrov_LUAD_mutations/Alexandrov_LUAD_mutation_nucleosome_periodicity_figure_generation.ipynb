{
 "cells": [
  {
   "cell_type": "code",
   "execution_count": null,
   "metadata": {},
   "outputs": [],
   "source": [
    "import os\n",
    "from pandas import read_table\n",
    "from benbiohelpers.FileSystemHandling.DirectoryHandling import getFilesInDirectory\n",
    "from bpde_chromatin_analysis.helper_scripts.BPDE_DataDir import getDataDir\n",
    "from mutperiodpy.helper_scripts.UsefulFileSystemFunctions import DataTypeStr, Metadata\n",
    "from mutperiodpy.quick_scripts.GetNRL import getNRL\n",
    "from mutperiodpy.GeneratePlotnineFigures import parseAndPlotPeriodicity, parseNucleosomeCountsDataForPlotting, plotPeriodicity\n",
    "\n",
    "alexandrovDataDirectory = os.path.join(getDataDir(), \"Alexandrov_LUAD\")"
   ]
  },
  {
   "cell_type": "code",
   "execution_count": null,
   "metadata": {},
   "outputs": [],
   "source": [
    "SINGLE_NUC = 1\n",
    "NUC_GROUP = 2\n",
    "\n",
    "alexandrovNormalizedCounts = {SINGLE_NUC:dict(), NUC_GROUP:dict()}\n",
    "NRLs = dict()\n",
    "\n",
    "nucleosomeMapNameWhitelist = ['hg19_hybrid_nuc_map', 'hg19_LCL_MNase_nuc_map', 'hg19_NHF1_MNase_nuc_map']\n",
    "# nucleosomeMapNameWhitelist += ['hg19_LCL_MNase_nuc_map_euchromatin', 'hg19_LCL_MNase_nuc_map_heterochromatin',\n",
    "#                               'hg19_LCL_MNase_nuc_map_stringent_euchromatin']\n",
    "\n",
    "for nucleosomeCountsFilePath in getFilesInDirectory(alexandrovDataDirectory, DataTypeStr.normNucCounts+\".tsv\"):\n",
    "\n",
    "    countsMetadata = Metadata(nucleosomeCountsFilePath)\n",
    "    if countsMetadata.nucPosName not in nucleosomeMapNameWhitelist: continue\n",
    "\n",
    "    if \"nuc-group\" in nucleosomeCountsFilePath: radius = NUC_GROUP\n",
    "    else: radius = SINGLE_NUC\n",
    "\n",
    "    alexandrovNormalizedCounts[radius][countsMetadata.nucPosName] = read_table(nucleosomeCountsFilePath)\n",
    "\n",
    "    if countsMetadata.nucPosName not in NRLs: NRLs[countsMetadata.nucPosName] = getNRL([countsMetadata.baseNucPosFilePath])[0]"
   ]
  },
  {
   "cell_type": "code",
   "execution_count": null,
   "metadata": {},
   "outputs": [],
   "source": [
    "for radius in alexandrovNormalizedCounts:\n",
    "    for nucleosomeMapName in alexandrovNormalizedCounts[radius]:\n",
    "        plot = parseAndPlotPeriodicity(alexandrovNormalizedCounts[radius][nucleosomeMapName], dataCol = \"Normalized_Aligned_Strands\",\n",
    "                                       smoothTranslational = True, nucRepLen = NRLs[nucleosomeMapName],\n",
    "                                       title = f\"Alexandrov {nucleosomeMapName} Trinuc Normalized\", yAxisLabel = \"Normalized Counts\")\n",
    "        print(plot)"
   ]
  }
 ],
 "metadata": {
  "kernelspec": {
   "display_name": "Python 3",
   "language": "python",
   "name": "python3"
  },
  "language_info": {
   "codemirror_mode": {
    "name": "ipython",
    "version": 3
   },
   "file_extension": ".py",
   "mimetype": "text/x-python",
   "name": "python",
   "nbconvert_exporter": "python",
   "pygments_lexer": "ipython3",
   "version": "3.10.12"
  }
 },
 "nbformat": 4,
 "nbformat_minor": 2
}
