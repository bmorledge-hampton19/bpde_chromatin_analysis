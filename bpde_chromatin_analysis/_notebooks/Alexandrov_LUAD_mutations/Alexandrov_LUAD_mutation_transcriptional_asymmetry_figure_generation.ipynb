{
 "cells": [
  {
   "cell_type": "markdown",
   "metadata": {},
   "source": [
    "### Parse the gene bins file to a pandas data frame"
   ]
  },
  {
   "cell_type": "code",
   "execution_count": null,
   "metadata": {},
   "outputs": [],
   "source": [
    "import os\n",
    "from bpde_chromatin_analysis.helper_scripts.BPDE_DataDir import getDataDir\n",
    "from chromatinfeaturesanalysis.BinInGenes import parseGeneBinData, plotGeneBins\n",
    "\n",
    "alexandrovDataDirectory = os.path.join(getDataDir(), \"Alexandrov_LUAD\")\n",
    "alexandrovGeneBinDataFilePath = os.path.join(alexandrovDataDirectory, \"Alexandrov_LUAD_trinuc_context_mutations_gene_bins_TS_vs_NTS.tsv\")\n",
    "alexandrovGeneBinData = parseGeneBinData(alexandrovGeneBinDataFilePath)"
   ]
  },
  {
   "cell_type": "markdown",
   "metadata": {},
   "source": [
    "### Graph the TS vs. NTS"
   ]
  },
  {
   "cell_type": "code",
   "execution_count": null,
   "metadata": {},
   "outputs": [],
   "source": [
    "print(\n",
    "    plotGeneBins(alexandrovGeneBinData, \"Alexandrov Transcriptional Asymmetry\", yAxisLabel = \"Mutations (pyrimidine)\",\n",
    "                 yData1 = \"Coding_Strand_Counts\", yData2 = \"Noncoding_Strand_Counts\", plotYData3Only = False,\n",
    "                 flankingBinSize = 4228, flankingBinNum = 3)\n",
    ")"
   ]
  },
  {
   "cell_type": "markdown",
   "metadata": {},
   "source": [
    "### Graph the log ratio of TS vs. NTS"
   ]
  },
  {
   "cell_type": "code",
   "execution_count": null,
   "metadata": {},
   "outputs": [],
   "source": [
    "print(\n",
    "    plotGeneBins(alexandrovGeneBinData, \"Alexandrov Transcriptional Asymmetry\", yAxisLabel = \"Mutation Log Ratio (Pyr; TS/NTS)\", ylim = (-1,1),\n",
    "                 flankingBinSize = 4228, flankingBinNum = 3)\n",
    ")"
   ]
  }
 ],
 "metadata": {
  "kernelspec": {
   "display_name": "Python 3",
   "language": "python",
   "name": "python3"
  },
  "language_info": {
   "codemirror_mode": {
    "name": "ipython",
    "version": 3
   },
   "file_extension": ".py",
   "mimetype": "text/x-python",
   "name": "python",
   "nbconvert_exporter": "python",
   "pygments_lexer": "ipython3",
   "version": "3.10.12"
  }
 },
 "nbformat": 4,
 "nbformat_minor": 2
}
