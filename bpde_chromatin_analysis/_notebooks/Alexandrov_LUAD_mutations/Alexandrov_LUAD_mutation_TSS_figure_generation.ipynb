{
 "cells": [
  {
   "cell_type": "code",
   "execution_count": null,
   "metadata": {},
   "outputs": [],
   "source": [
    "import os\n",
    "from pandas import read_table\n",
    "from benbiohelpers.FileSystemHandling.DirectoryHandling import getFilesInDirectory\n",
    "from bpde_chromatin_analysis.helper_scripts.BPDE_DataDir import getDataDir\n",
    "from mutperiodpy.helper_scripts.UsefulFileSystemFunctions import DataTypeStr, Metadata, getExternalDataDirectory as getMutperiodExternalDataDirectory\n",
    "from mutperiodpy.GeneratePlotnineFigures import parseAndPlotPeriodicity, plotPlusAndMinus\n",
    "\n",
    "mutperiodHg19Directory = os.path.join(getMutperiodExternalDataDirectory(),\"hg19\")\n",
    "\n",
    "alexandrovDataDirectory = os.path.join(getDataDir(), \"Alexandrov_LUAD\")"
   ]
  },
  {
   "cell_type": "code",
   "execution_count": null,
   "metadata": {},
   "outputs": [],
   "source": [
    "SINGLE_NUC = 1\n",
    "NUC_GROUP = 2\n",
    "EXTENDED = 3\n",
    "\n",
    "TSS_Names = [\"hg19_protein_coding_genes_TSSs\"]\n",
    "\n",
    "alexandrovRawCounts = {SINGLE_NUC:dict(), NUC_GROUP:dict(), EXTENDED:dict()}\n",
    "alexandrovNormalizedCounts = {SINGLE_NUC:dict(), NUC_GROUP:dict()}\n",
    "for nucleosomeCountsFilePath in getFilesInDirectory(alexandrovDataDirectory, DataTypeStr.rawNucCounts+\".tsv\"):\n",
    "\n",
    "    countsMetadata = Metadata(nucleosomeCountsFilePath)\n",
    "    if countsMetadata.nucPosName not in TSS_Names: continue\n",
    "\n",
    "    if \"nuc-group\" in nucleosomeCountsFilePath: radius = NUC_GROUP\n",
    "    elif \"linker+\" in nucleosomeCountsFilePath: radius = EXTENDED\n",
    "    else: radius = SINGLE_NUC\n",
    "\n",
    "    alexandrovRawCounts[radius][countsMetadata.nucPosName] = read_table(nucleosomeCountsFilePath)\n",
    "\n",
    "for nucleosomeCountsFilePath in getFilesInDirectory(alexandrovDataDirectory, DataTypeStr.normNucCounts+\".tsv\"):\n",
    "\n",
    "    if \"nuc-group\" in nucleosomeCountsFilePath: radius = NUC_GROUP\n",
    "    else: radius = SINGLE_NUC\n",
    "\n",
    "    countsMetadata = Metadata(nucleosomeCountsFilePath)\n",
    "\n",
    "    if countsMetadata.nucPosName in TSS_Names:\n",
    "        alexandrovNormalizedCounts[radius][countsMetadata.nucPosName] = read_table(nucleosomeCountsFilePath)"
   ]
  },
  {
   "cell_type": "code",
   "execution_count": null,
   "metadata": {},
   "outputs": [],
   "source": [
    "for radius in alexandrovRawCounts:\n",
    "    for TSS_Name in alexandrovRawCounts[radius]:\n",
    "        plot = parseAndPlotPeriodicity(alexandrovRawCounts[radius][TSS_Name], dataCol = \"Both_Strands_Counts\",\n",
    "                                       smoothTranslational = False, nucRepLen = 2000,\n",
    "                                       title = f\"Alexandrov {TSS_Name} Raw\", yAxisLabel = \"Mutations\")\n",
    "        print(plot)\n",
    "        plot = plotPlusAndMinus(alexandrovRawCounts[radius][TSS_Name], f\"Alexandrov {TSS_Name} Raw\", yAxisLabel = \"Mutations\",\n",
    "                                smoothData = True, overlaySmoothedAndNormal = True)\n",
    "        print(plot)"
   ]
  },
  {
   "cell_type": "code",
   "execution_count": null,
   "metadata": {},
   "outputs": [],
   "source": [
    "for radius in alexandrovNormalizedCounts:\n",
    "    for TSS_Name in alexandrovNormalizedCounts[radius]:\n",
    "        plot = parseAndPlotPeriodicity(alexandrovNormalizedCounts[radius][TSS_Name], dataCol = \"Normalized_Both_Strands\",\n",
    "                                       smoothTranslational = False, nucRepLen = 2000,\n",
    "                                       title = f\"Alexandrov {TSS_Name} Trinuc Normalized\", yAxisLabel = \"Normalized Counts\")\n",
    "        print(plot)\n",
    "        plot = plotPlusAndMinus(alexandrovNormalizedCounts[radius][TSS_Name], f\"Alexandrov {TSS_Name} Trinuc Normalized\", yAxisLabel = \"Normalized Counts\",\n",
    "                                smoothData = True, overlaySmoothedAndNormal = True)\n",
    "        print(plot)"
   ]
  }
 ],
 "metadata": {
  "kernelspec": {
   "display_name": "Python 3",
   "language": "python",
   "name": "python3"
  },
  "language_info": {
   "codemirror_mode": {
    "name": "ipython",
    "version": 3
   },
   "file_extension": ".py",
   "mimetype": "text/x-python",
   "name": "python",
   "nbconvert_exporter": "python",
   "pygments_lexer": "ipython3",
   "version": "3.10.12"
  }
 },
 "nbformat": 4,
 "nbformat_minor": 2
}
