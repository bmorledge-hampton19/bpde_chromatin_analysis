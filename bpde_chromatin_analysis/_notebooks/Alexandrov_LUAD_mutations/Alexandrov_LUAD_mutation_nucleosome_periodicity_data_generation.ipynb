{
 "cells": [
  {
   "cell_type": "markdown",
   "metadata": {},
   "source": [
    "### Set up pipeline with basic imports, data directories, and file basenames."
   ]
  },
  {
   "cell_type": "code",
   "execution_count": null,
   "metadata": {},
   "outputs": [],
   "source": [
    "import os\n",
    "from benbiohelpers.DataPipelineManagement.GenomeManager import getGenomeFastaFilePath\n",
    "from bpde_chromatin_analysis.helper_scripts.BPDE_DataDir import getDataDir\n",
    "from mutperiodpy.helper_scripts.UsefulFileSystemFunctions import getExternalDataDirectory as getMutperiodExternalDataDirectory\n",
    "\n",
    "hg19FastaFilePath = getGenomeFastaFilePath(\"hg19\")\n",
    "mutperiodHg19Directory = getMutperiodExternalDataDirectory()\n",
    "\n",
    "alexandrovDataDirectory = os.path.join(getDataDir(), \"Alexandrov_LUAD\")\n",
    "alexandrovBaseDataFilePath = os.path.join(alexandrovDataDirectory, \"Lung_Adeno_clean_somatic_mutations_for_signature_analysis.txt\")"
   ]
  },
  {
   "cell_type": "markdown",
   "metadata": {},
   "source": [
    "### Parse the damage position data for mutperiod input"
   ]
  },
  {
   "cell_type": "code",
   "execution_count": null,
   "metadata": {},
   "outputs": [],
   "source": [
    "from mutperiodpy.input_parsing.ParseAlexandrov import parseAlexandrov\n",
    "\n",
    "alexandrovMutperiodInputFilePath = parseAlexandrov([alexandrovBaseDataFilePath], hg19FastaFilePath)"
   ]
  },
  {
   "cell_type": "markdown",
   "metadata": {},
   "source": [
    "### Run the mutperiod pipeline to determine translational and rotational periodicity of the data."
   ]
  },
  {
   "cell_type": "code",
   "execution_count": null,
   "metadata": {},
   "outputs": [],
   "source": [
    "from mutperiodpy.RunAnalysisSuite import runAnalysisSuite\n",
    "\n",
    "hybridNucleosomeMapFilePath = os.path.join(mutperiodHg19Directory, \"hg19_hybrid_nucleosome_map\", \"hg19_hybrid_nucleosome_map.bed\")\n",
    "LCL_NucleosomeMapFilePath = os.path.join(mutperiodHg19Directory, \"hg19_LCL_MNase_nuc_map_all_mappable\", \"hg19_LCL_MNase_nuc_map_all_mappable.bed\")\n",
    "NHF1_NucleosomeMapFilePath = os.path.join(mutperiodHg19Directory, \"hg19_NHF1_MNase_nuc_map_mappable\", \"hg19_NHF1_MNase_nuc_map_all_mappable.bed\")\n",
    "nucleosomeMapFilePaths = [hybridNucleosomeMapFilePath, LCL_NucleosomeMapFilePath, NHF1_NucleosomeMapFilePath]\n",
    "nucleosomeMapNames = [os.path.basename(nucleosomeMapFilePath).rsplit('.', 1)[0] for nucleosomeMapFilePath in nucleosomeMapFilePaths]\n",
    "\n",
    "runAnalysisSuite(alexandrovMutperiodInputFilePath, nucleosomeMapNames, normalizationMethod = \"Trinuc/Quadrunuc\", customBackgroundDir = None,\n",
    "                 useSingleNucRadius = True, includeLinker = False, useNucGroupRadius = True)"
   ]
  },
  {
   "cell_type": "code",
   "execution_count": null,
   "metadata": {},
   "outputs": [],
   "source": [
    "from mutperiodpy.helper_scripts.UsefulFileSystemFunctions import DataTypeStr\n",
    "from mutperiodpy.RunNucleosomeMutationAnalysis import runNucleosomeMutationAnalysis\n",
    "from benbiohelpers.FileSystemHandling.DirectoryHandling import getFilesInDirectory\n",
    "\n",
    "runNucleosomeMutationAnalysis(getFilesInDirectory(alexandrovDataDirectory, DataTypeStr.normNucCounts + \".tsv\"),\n",
    "                              outputFilePath = os.path.join(alexandrovDataDirectory, \"Alexandrov_LUAD_trinuc_normalized_periodicity_data.tsv\"),\n",
    "                              overridePeakPeriodicityWithExpected = False, alignStrands = True)"
   ]
  }
 ],
 "metadata": {
  "kernelspec": {
   "display_name": "Python 3",
   "language": "python",
   "name": "python3"
  },
  "language_info": {
   "codemirror_mode": {
    "name": "ipython",
    "version": 3
   },
   "file_extension": ".py",
   "mimetype": "text/x-python",
   "name": "python",
   "nbconvert_exporter": "python",
   "pygments_lexer": "ipython3",
   "version": "3.10.12"
  }
 },
 "nbformat": 4,
 "nbformat_minor": 2
}
