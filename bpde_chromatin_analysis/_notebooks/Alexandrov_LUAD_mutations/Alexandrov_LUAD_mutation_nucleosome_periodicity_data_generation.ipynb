{
 "cells": [
  {
   "cell_type": "markdown",
   "metadata": {},
   "source": [
    "### Set up pipeline with basic imports, data directories, and file basenames."
   ]
  },
  {
   "cell_type": "code",
   "execution_count": null,
   "metadata": {},
   "outputs": [],
   "source": [
    "import os\n",
    "from benbiohelpers.DataPipelineManagement.GenomeManager import getGenomeFastaFilePath\n",
    "from bpde_chromatin_analysis.helper_scripts.BPDE_DataDir import getDataDir\n",
    "from mutperiodpy.helper_scripts.UsefulFileSystemFunctions import getExternalDataDirectory as getMutperiodExternalDataDirectory\n",
    "\n",
    "hg19FastaFilePath = getGenomeFastaFilePath(\"hg19\")\n",
    "mutperiodHg19Directory = getMutperiodExternalDataDirectory()\n",
    "\n",
    "alexandrovDataDirectory = os.path.join(getDataDir(), \"Alexandrov_LUAD\")\n",
    "alexandrovBaseDataFilePath = os.path.join(alexandrovDataDirectory, \"Lung_Adeno_clean_somatic_mutations_for_signature_analysis.txt\")"
   ]
  },
  {
   "cell_type": "markdown",
   "metadata": {},
   "source": [
    "### Parse the mutation data for mutperiod input"
   ]
  },
  {
   "cell_type": "code",
   "execution_count": null,
   "metadata": {},
   "outputs": [],
   "source": [
    "from mutperiodpy.input_parsing.ParseAlexandrov import parseAlexandrov\n",
    "from mutperiodpy.helper_scripts.UsefulFileSystemFunctions import DataTypeStr\n",
    "from benbiohelpers.FileSystemHandling.DirectoryHandling import getFilesInDirectory\n",
    "\n",
    "if getFilesInDirectory(alexandrovDataDirectory, DataTypeStr.mutations + \".bed\", searchRecursively = False) is None:\n",
    "    print(\"Parsed data not found. Generating...\")\n",
    "    alexandrovMutperiodInputFilePaths = parseAlexandrov([alexandrovBaseDataFilePath], hg19FastaFilePath)\n",
    "else:\n",
    "    alexandrovMutperiodInputFilePaths = [getFilesInDirectory(alexandrovDataDirectory, DataTypeStr.mutations + \".bed\", searchRecursively = False)]\n",
    "    print(f\"Found parsed data at {alexandrovMutperiodInputFilePaths[0]}. Continuing.\")"
   ]
  },
  {
   "cell_type": "markdown",
   "metadata": {},
   "source": [
    "### Run the mutperiod pipeline to determine translational and rotational periodicity of the data."
   ]
  },
  {
   "cell_type": "code",
   "execution_count": null,
   "metadata": {},
   "outputs": [],
   "source": [
    "from mutperiodpy.RunAnalysisSuite import runAnalysisSuite\n",
    "\n",
    "nucleosomeMapFilePaths = list()\n",
    "nucleosomeMapFilePaths.append(os.path.join(mutperiodHg19Directory, \"hg19_hybrid_nuc_map\", \"hg19_hybrid_nuc_map.bed\"))\n",
    "nucleosomeMapFilePaths.append(os.path.join(mutperiodHg19Directory, \"hg19_LCL_MNase_nuc_map\", \"hg19_LCL_MNase_nuc_map.bed\"))\n",
    "# nucleosomeMapFilePaths.append(os.path.join(mutperiodHg19Directory, \"hg19_LCL_MNase_nuc_map_euchromatin\",\n",
    "#                                            \"hg19_LCL_MNase_nuc_map_euchromatin.bed\"))\n",
    "# nucleosomeMapFilePaths.append(os.path.join(mutperiodHg19Directory, \"hg19_LCL_MNase_nuc_map_heterochromatin\",\n",
    "#                                            \"hg19_LCL_MNase_nuc_map_heterochromatin.bed\"))\n",
    "# nucleosomeMapFilePaths.append(os.path.join(mutperiodHg19Directory, \"hg19_LCL_MNase_nuc_map_stringent_euchromatin\",\n",
    "#                                            \"hg19_LCL_MNase_nuc_map_stringent_euchromatin.bed\"))\n",
    "# nucleosomeMapFilePaths.append(os.path.join(mutperiodHg19Directory, \"hg19_NHF1_MNase_nuc_map\", \"hg19_NHF1_MNase_nuc_map.bed\"))\n",
    "\n",
    "nucleosomeMapNames = [os.path.basename(nucleosomeMapFilePath).rsplit('.', 1)[0] for nucleosomeMapFilePath in nucleosomeMapFilePaths]\n",
    "\n",
    "runAnalysisSuite(alexandrovMutperiodInputFilePaths, nucleosomeMapNames, normalizationMethod = \"Trinuc/Quadrunuc\", customBackgroundDir = None,\n",
    "                 useSingleNucRadius = True, includeLinker = False, useNucGroupRadius = True)"
   ]
  },
  {
   "cell_type": "code",
   "execution_count": null,
   "metadata": {},
   "outputs": [],
   "source": [
    "from mutperiodpy.RunNucleosomeMutationAnalysis import runNucleosomeMutationAnalysis\n",
    "\n",
    "normalizedNucleosomeCountsFilePaths = list()\n",
    "for nucleosomeMapName in nucleosomeMapNames:\n",
    "    normalizedNucleosomeCountsFilePaths += getFilesInDirectory(os.path.join(alexandrovDataDirectory, nucleosomeMapName), DataTypeStr.normNucCounts + \".tsv\")\n",
    "\n",
    "runNucleosomeMutationAnalysis(normalizedNucleosomeCountsFilePaths,\n",
    "                              outputFilePath = os.path.join(alexandrovDataDirectory, \"Alexandrov_LUAD_trinuc_normalized_periodicity_data.tsv\"),\n",
    "                              overridePeakPeriodicityWithExpected = False, alignStrands = False)"
   ]
  }
 ],
 "metadata": {
  "kernelspec": {
   "display_name": "Python 3",
   "language": "python",
   "name": "python3"
  },
  "language_info": {
   "codemirror_mode": {
    "name": "ipython",
    "version": 3
   },
   "file_extension": ".py",
   "mimetype": "text/x-python",
   "name": "python",
   "nbconvert_exporter": "python",
   "pygments_lexer": "ipython3",
   "version": "3.10.12"
  }
 },
 "nbformat": 4,
 "nbformat_minor": 2
}
